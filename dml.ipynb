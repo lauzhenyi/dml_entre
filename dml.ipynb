{
  "nbformat": 4,
  "nbformat_minor": 0,
  "metadata": {
    "colab": {
      "provenance": [],
      "collapsed_sections": [
        "7bnEXpJnC1Rj",
        "St8Tz_Jb2J6A",
        "M2RgRh1xDJmV"
      ]
    },
    "kernelspec": {
      "name": "python3",
      "display_name": "Python 3"
    },
    "language_info": {
      "name": "python"
    }
  },
  "cells": [
    {
      "cell_type": "code",
      "source": [
        "!pip install --upgrade scikit-learn"
      ],
      "metadata": {
        "colab": {
          "base_uri": "https://localhost:8080/"
        },
        "id": "RlgvdW6QaDhx",
        "outputId": "075be97a-426e-4098-f3a8-502dc9bef226"
      },
      "execution_count": 1,
      "outputs": [
        {
          "output_type": "stream",
          "name": "stdout",
          "text": [
            "Requirement already satisfied: scikit-learn in /usr/local/lib/python3.10/dist-packages (1.2.2)\n",
            "Collecting scikit-learn\n",
            "  Downloading scikit_learn-1.5.0-cp310-cp310-manylinux_2_17_x86_64.manylinux2014_x86_64.whl (13.3 MB)\n",
            "\u001b[2K     \u001b[90m━━━━━━━━━━━━━━━━━━━━━━━━━━━━━━━━━━━━━━━━\u001b[0m \u001b[32m13.3/13.3 MB\u001b[0m \u001b[31m29.3 MB/s\u001b[0m eta \u001b[36m0:00:00\u001b[0m\n",
            "\u001b[?25hRequirement already satisfied: numpy>=1.19.5 in /usr/local/lib/python3.10/dist-packages (from scikit-learn) (1.25.2)\n",
            "Requirement already satisfied: scipy>=1.6.0 in /usr/local/lib/python3.10/dist-packages (from scikit-learn) (1.11.4)\n",
            "Requirement already satisfied: joblib>=1.2.0 in /usr/local/lib/python3.10/dist-packages (from scikit-learn) (1.4.2)\n",
            "Requirement already satisfied: threadpoolctl>=3.1.0 in /usr/local/lib/python3.10/dist-packages (from scikit-learn) (3.5.0)\n",
            "Installing collected packages: scikit-learn\n",
            "  Attempting uninstall: scikit-learn\n",
            "    Found existing installation: scikit-learn 1.2.2\n",
            "    Uninstalling scikit-learn-1.2.2:\n",
            "      Successfully uninstalled scikit-learn-1.2.2\n",
            "Successfully installed scikit-learn-1.5.0\n"
          ]
        }
      ]
    },
    {
      "cell_type": "markdown",
      "source": [
        "# **家庭所得階層、創業決策與階層流動：雙重機器學習（Double/Debiased Machine Learning）的取徑**\n"
      ],
      "metadata": {
        "id": "6aXGZTqjxh8G"
      }
    },
    {
      "cell_type": "markdown",
      "source": [
        "## **一、前言與文獻回顧**\n",
        "\n",
        "本篇報告基於林祖嘉等學者（2020）的研究成果，利用臺灣社會變遷基本調查計畫第七期第三次「社會階層」主題資料集（傅仰止，2023），使用雙重機器學習方法，並提出適當的工具變項，進一步探討台灣社會的家庭所得階層及創業對所得階層流動的影響。\n",
        "\n",
        "在林祖嘉等人（2020）的研究中，他們回顧了家庭對於兒女創業意願的關係。首先，許多研究表明家庭教育對於青年人的創業動機影響非常大，且一些研究也指出男性創業意願高於女性。另一方面，在台灣社會的背景下，近代的創業者由中高收入階層佔多數，逐漸取代早年因家庭貧困而出來創業的低收入階層，尤其在台灣社會，創業者初期資金來源多為周遭的親友，與前述的中高收入階層有著一定程度的關聯。過去的文獻也證實，過去工作累積下來的經驗與人脈，很大程度上能夠推動一個人的創業動機。\n",
        "\n",
        "在個體層面，對於當下現狀（收入、工作挫折、工時）的不滿、個人追求（自我實現、社會責任、市場機會）等因素，亦是推動個人創業的因素。\n",
        "\n",
        "另外，文章中也關心創業是否如學者以及政策所預期，認為創業為所得階層流動的重要管道，因此林祖嘉等人（2020）的研究中也有相關的討論。"
      ],
      "metadata": {
        "id": "xfvBPXgz80WO"
      }
    },
    {
      "cell_type": "markdown",
      "source": [
        "## **二、研究問題與方法**\n",
        "\n",
        "本篇報告挑選林祖嘉等學者研究中（2020）重要其中一個研究問題，在其基礎上進一步追問其因果效應（Caual Effect）。本篇報告想要回答的問題是：創業對家庭所得階層流動的因果效應為何？\n",
        "\n",
        "綜合前述的回顧，我們將會設計一個模型，使用雙重機器學習來估計其因果效應。\n"
      ],
      "metadata": {
        "id": "7bnEXpJnC1Rj"
      }
    },
    {
      "cell_type": "markdown",
      "source": [
        "### **模型設計**\n"
      ],
      "metadata": {
        "id": "-bs--gzVyiOj"
      }
    },
    {
      "cell_type": "markdown",
      "source": [
        "模型變量如下，為了驗證創業本身對所得階層造成的影響，我們會同時考慮：\n",
        "\n",
        "*   $X$ 為控制變量，包含如下變量\n",
        "  * 受訪者的年齡\n",
        "  * 性別\n",
        "  * 受教育年數\n",
        "  * 父親的工作型態\n",
        "  * 居住地區（都會核心區、工商市區、新興市鎮、傳統產業市鎮、低度發展鄉鎮，或是高齡偏遠鄉鎮）\n",
        "*   $Y$ 為調查當下個人的所得階層；\n",
        "*   $T_{1}$ 為創業與否；\n",
        "*   $T_{2}$ 為年少時期家庭所得階層；\n",
        "*   $Z_1$ 為 $T_{1}$ 的工具變量，我們選用了以下兩個工具變量：\n",
        "  * 一週工作天數\n",
        "  * 工作平均收入\n",
        "*   $Z_2$ 為 $T_{2}$ 的工具變量，我們選用了以下四個工具變量：\n",
        "  * 父親教育年數\n",
        "  * 對他人的信任程度（我們預期對他人越信任，說明成長過程更順遂）\n",
        "  * 自評快樂程度\n",
        "  * 自評健康程度\n",
        "  \n",
        "模型設計及因果路徑圖如下："
      ],
      "metadata": {
        "id": "_Eu2co5Z13OT"
      }
    },
    {
      "cell_type": "code",
      "source": [
        "import networkx as nx\n",
        "import matplotlib.pyplot as plt\n",
        "G = nx.DiGraph()\n",
        "\n",
        "a = 'X'\n",
        "b = 'Y2'\n",
        "c = 'T21'\n",
        "d = 'Z'\n",
        "e = 'T22'\n",
        "f = 'T21*T22'\n",
        "\n",
        "nodes = [a,b,c,d,e,f]\n",
        "G.add_nodes_from(nodes)\n",
        "edges = [(a,b),(a,c),(a,d),(a,e),(a,f),(c,b),(e,b),(f,b),(d,c),(d,e),(d,f)]\n",
        "G.add_edges_from(edges)\n",
        "\n",
        "pos = {a: (1, 2), b: (2, 1), c: (0, 1), d:(-1,1.5), e:(0,0.5), f:(0,0)}\n",
        "\n",
        "plt.figure(figsize=(4, 4))\n",
        "\n",
        "nx.draw(G, pos, with_labels=True, node_size=2000, node_color='lightblue', font_size=10, font_weight='bold')\n",
        "\n",
        "node_labels = nx.get_node_attributes(G, 'label')\n",
        "nx.draw_networkx_labels(G, pos, labels=node_labels)\n",
        "\n",
        "plt.title(\"Model\")\n",
        "plt.axis('off')\n",
        "\n",
        "plt.show()"
      ],
      "metadata": {
        "colab": {
          "base_uri": "https://localhost:8080/",
          "height": 459
        },
        "id": "9XpJBqGS8wwd",
        "outputId": "9ce654a3-874a-4d0a-9f39-0b14c8564a92"
      },
      "execution_count": 2,
      "outputs": [
        {
          "output_type": "display_data",
          "data": {
            "text/plain": [
              "<Figure size 400x400 with 1 Axes>"
            ],
            "image/png": "[encoded data removed]"
          },
          "metadata": {}
        }
      ]
    },
    {
      "cell_type": "markdown",
      "source": [
        "## **三、資料處理與前置作業**"
      ],
      "metadata": {
        "id": "Ncxfa-u7170S"
      }
    },
    {
      "cell_type": "markdown",
      "source": [
        "### **（一）資料集讀取與清洗**\n",
        "\n",
        "本資料集取自台灣社會變遷基本調查計畫2017第七期第三次：社會階層組，由於僅提供STATA的.dta以及SPSS的資料檔，為簡化流程，大部分的資料清洗已在STATA中完成，並且僅導入清洗後的變項。"
      ],
      "metadata": {
        "id": "St8Tz_Jb2J6A"
      }
    },
    {
      "cell_type": "code",
      "source": [
        "import pandas as pd\n",
        "df = pd.read_csv('TSCS2017_cleaned.csv')\n",
        "df.head()"
      ],
      "metadata": {
        "colab": {
          "base_uri": "https://localhost:8080/",
          "height": 295
        },
        "id": "ufQ6b1-42JBq",
        "outputId": "fee422e9-3006-411e-d866-344941f43348"
      },
      "execution_count": 13,
      "outputs": [
        {
          "output_type": "execute_result",
          "data": {
            "text/plain": [
              "  stratum2 f_job  age   edu  strata_young  strata_current  is_entrepreneur  \\\n",
              "0     新興市鎮  自行創業   67   6.0           3.0             1.0              0.0   \n",
              "1     新興市鎮   NaN   69   6.0           2.0             3.0              0.0   \n",
              "2   傳統產業市鎮  自行創業   52  14.0           4.0             4.0              1.0   \n",
              "3     工商市區  自行創業   41  12.0           3.0             3.0              1.0   \n",
              "4   傳統產業市鎮   NaN   64   9.0           1.0             1.0              0.0   \n",
              "\n",
              "   f_edu  trust  health  happy  worktime  gender  income  \n",
              "0    NaN    0.0     2.0    2.0       6.0       0     6.0  \n",
              "1    0.0    1.0     4.0    2.0       NaN       0     NaN  \n",
              "2    6.0    3.0     3.0    2.0       7.0       1     9.0  \n",
              "3    6.0    1.0     2.0    3.0       7.0       1     0.0  \n",
              "4    NaN    NaN     4.0    1.0       5.0       0     6.0  "
            ],
            "text/html": [
              "\n",
              "  <div id=\"df-461d31b0-20e7-4219-9599-276ba0e52504\" class=\"colab-df-container\">\n",
              "    <div>\n",
              "<style scoped>\n",
              "    .dataframe tbody tr th:only-of-type {\n",
              "        vertical-align: middle;\n",
              "    }\n",
              "\n",
              "    .dataframe tbody tr th {\n",
              "        vertical-align: top;\n",
              "    }\n",
              "\n",
              "    .dataframe thead th {\n",
              "        text-align: right;\n",
              "    }\n",
              "</style>\n",
              "<table border=\"1\" class=\"dataframe\">\n",
              "  <thead>\n",
              "    <tr style=\"text-align: right;\">\n",
              "      <th></th>\n",
              "      <th>stratum2</th>\n",
              "      <th>f_job</th>\n",
              "      <th>age</th>\n",
              "      <th>edu</th>\n",
              "      <th>strata_young</th>\n",
              "      <th>strata_current</th>\n",
              "      <th>is_entrepreneur</th>\n",
              "      <th>f_edu</th>\n",
              "      <th>trust</th>\n",
              "      <th>health</th>\n",
              "      <th>happy</th>\n",
              "      <th>worktime</th>\n",
              "      <th>gender</th>\n",
              "      <th>income</th>\n",
              "    </tr>\n",
              "  </thead>\n",
              "  <tbody>\n",
              "    <tr>\n",
              "      <th>0</th>\n",
              "      <td>新興市鎮</td>\n",
              "      <td>自行創業</td>\n",
              "      <td>67</td>\n",
              "      <td>6.0</td>\n",
              "      <td>3.0</td>\n",
              "      <td>1.0</td>\n",
              "      <td>0.0</td>\n",
              "      <td>NaN</td>\n",
              "      <td>0.0</td>\n",
              "      <td>2.0</td>\n",
              "      <td>2.0</td>\n",
              "      <td>6.0</td>\n",
              "      <td>0</td>\n",
              "      <td>6.0</td>\n",
              "    </tr>\n",
              "    <tr>\n",
              "      <th>1</th>\n",
              "      <td>新興市鎮</td>\n",
              "      <td>NaN</td>\n",
              "      <td>69</td>\n",
              "      <td>6.0</td>\n",
              "      <td>2.0</td>\n",
              "      <td>3.0</td>\n",
              "      <td>0.0</td>\n",
              "      <td>0.0</td>\n",
              "      <td>1.0</td>\n",
              "      <td>4.0</td>\n",
              "      <td>2.0</td>\n",
              "      <td>NaN</td>\n",
              "      <td>0</td>\n",
              "      <td>NaN</td>\n",
              "    </tr>\n",
              "    <tr>\n",
              "      <th>2</th>\n",
              "      <td>傳統產業市鎮</td>\n",
              "      <td>自行創業</td>\n",
              "      <td>52</td>\n",
              "      <td>14.0</td>\n",
              "      <td>4.0</td>\n",
              "      <td>4.0</td>\n",
              "      <td>1.0</td>\n",
              "      <td>6.0</td>\n",
              "      <td>3.0</td>\n",
              "      <td>3.0</td>\n",
              "      <td>2.0</td>\n",
              "      <td>7.0</td>\n",
              "      <td>1</td>\n",
              "      <td>9.0</td>\n",
              "    </tr>\n",
              "    <tr>\n",
              "      <th>3</th>\n",
              "      <td>工商市區</td>\n",
              "      <td>自行創業</td>\n",
              "      <td>41</td>\n",
              "      <td>12.0</td>\n",
              "      <td>3.0</td>\n",
              "      <td>3.0</td>\n",
              "      <td>1.0</td>\n",
              "      <td>6.0</td>\n",
              "      <td>1.0</td>\n",
              "      <td>2.0</td>\n",
              "      <td>3.0</td>\n",
              "      <td>7.0</td>\n",
              "      <td>1</td>\n",
              "      <td>0.0</td>\n",
              "    </tr>\n",
              "    <tr>\n",
              "      <th>4</th>\n",
              "      <td>傳統產業市鎮</td>\n",
              "      <td>NaN</td>\n",
              "      <td>64</td>\n",
              "      <td>9.0</td>\n",
              "      <td>1.0</td>\n",
              "      <td>1.0</td>\n",
              "      <td>0.0</td>\n",
              "      <td>NaN</td>\n",
              "      <td>NaN</td>\n",
              "      <td>4.0</td>\n",
              "      <td>1.0</td>\n",
              "      <td>5.0</td>\n",
              "      <td>0</td>\n",
              "      <td>6.0</td>\n",
              "    </tr>\n",
              "  </tbody>\n",
              "</table>\n",
              "</div>\n",
              "    <div class=\"colab-df-buttons\">\n",
              "\n",
              "  <div class=\"colab-df-container\">\n",
              "    <button class=\"colab-df-convert\" onclick=\"convertToInteractive('df-461d31b0-20e7-4219-9599-276ba0e52504')\"\n",
              "            title=\"Convert this dataframe to an interactive table.\"\n",
              "            style=\"display:none;\">\n",
              "\n",
              "  <svg xmlns=\"http://www.w3.org/2000/svg\" height=\"24px\" viewBox=\"0 -960 960 960\">\n",
              "    <path d=\"M120-120v-720h720v720H120Zm60-500h600v-160H180v160Zm220 220h160v-160H400v160Zm0 220h160v-160H400v160ZM180-400h160v-160H180v160Zm440 0h160v-160H620v160ZM180-180h160v-160H180v160Zm440 0h160v-160H620v160Z\"/>\n",
              "  </svg>\n",
              "    </button>\n",
              "\n",
              "  <style>\n",
              "    .colab-df-container {\n",
              "      display:flex;\n",
              "      gap: 12px;\n",
              "    }\n",
              "\n",
              "    .colab-df-convert {\n",
              "      background-color: #E8F0FE;\n",
              "      border: none;\n",
              "      border-radius: 50%;\n",
              "      cursor: pointer;\n",
              "      display: none;\n",
              "      fill: #1967D2;\n",
              "      height: 32px;\n",
              "      padding: 0 0 0 0;\n",
              "      width: 32px;\n",
              "    }\n",
              "\n",
              "    .colab-df-convert:hover {\n",
              "      background-color: #E2EBFA;\n",
              "      box-shadow: 0px 1px 2px rgba(60, 64, 67, 0.3), 0px 1px 3px 1px rgba(60, 64, 67, 0.15);\n",
              "      fill: #174EA6;\n",
              "    }\n",
              "\n",
              "    .colab-df-buttons div {\n",
              "      margin-bottom: 4px;\n",
              "    }\n",
              "\n",
              "    [theme=dark] .colab-df-convert {\n",
              "      background-color: #3B4455;\n",
              "      fill: #D2E3FC;\n",
              "    }\n",
              "\n",
              "    [theme=dark] .colab-df-convert:hover {\n",
              "      background-color: #434B5C;\n",
              "      box-shadow: 0px 1px 3px 1px rgba(0, 0, 0, 0.15);\n",
              "      filter: drop-shadow(0px 1px 2px rgba(0, 0, 0, 0.3));\n",
              "      fill: #FFFFFF;\n",
              "    }\n",
              "  </style>\n",
              "\n",
              "    <script>\n",
              "      const buttonEl =\n",
              "        document.querySelector('#df-461d31b0-20e7-4219-9599-276ba0e52504 button.colab-df-convert');\n",
              "      buttonEl.style.display =\n",
              "        google.colab.kernel.accessAllowed ? 'block' : 'none';\n",
              "\n",
              "      async function convertToInteractive(key) {\n",
              "        const element = document.querySelector('#df-461d31b0-20e7-4219-9599-276ba0e52504');\n",
              "        const dataTable =\n",
              "          await google.colab.kernel.invokeFunction('convertToInteractive',\n",
              "                                                    [key], {});\n",
              "        if (!dataTable) return;\n",
              "\n",
              "        const docLinkHtml = 'Like what you see? Visit the ' +\n",
              "          '<a target=\"_blank\" href=https://colab.research.google.com/notebooks/data_table.ipynb>data table notebook</a>'\n",
              "          + ' to learn more about interactive tables.';\n",
              "        element.innerHTML = '';\n",
              "        dataTable['output_type'] = 'display_data';\n",
              "        await google.colab.output.renderOutput(dataTable, element);\n",
              "        const docLink = document.createElement('div');\n",
              "        docLink.innerHTML = docLinkHtml;\n",
              "        element.appendChild(docLink);\n",
              "      }\n",
              "    </script>\n",
              "  </div>\n",
              "\n",
              "\n",
              "<div id=\"df-31407a5c-924f-49f5-9a4a-45615d728a74\">\n",
              "  <button class=\"colab-df-quickchart\" onclick=\"quickchart('df-31407a5c-924f-49f5-9a4a-45615d728a74')\"\n",
              "            title=\"Suggest charts\"\n",
              "            style=\"display:none;\">\n",
              "\n",
              "<svg xmlns=\"http://www.w3.org/2000/svg\" height=\"24px\"viewBox=\"0 0 24 24\"\n",
              "     width=\"24px\">\n",
              "    <g>\n",
              "        <path d=\"M19 3H5c-1.1 0-2 .9-2 2v14c0 1.1.9 2 2 2h14c1.1 0 2-.9 2-2V5c0-1.1-.9-2-2-2zM9 17H7v-7h2v7zm4 0h-2V7h2v10zm4 0h-2v-4h2v4z\"/>\n",
              "    </g>\n",
              "</svg>\n",
              "  </button>\n",
              "\n",
              "<style>\n",
              "  .colab-df-quickchart {\n",
              "      --bg-color: #E8F0FE;\n",
              "      --fill-color: #1967D2;\n",
              "      --hover-bg-color: #E2EBFA;\n",
              "      --hover-fill-color: #174EA6;\n",
              "      --disabled-fill-color: #AAA;\n",
              "      --disabled-bg-color: #DDD;\n",
              "  }\n",
              "\n",
              "  [theme=dark] .colab-df-quickchart {\n",
              "      --bg-color: #3B4455;\n",
              "      --fill-color: #D2E3FC;\n",
              "      --hover-bg-color: #434B5C;\n",
              "      --hover-fill-color: #FFFFFF;\n",
              "      --disabled-bg-color: #3B4455;\n",
              "      --disabled-fill-color: #666;\n",
              "  }\n",
              "\n",
              "  .colab-df-quickchart {\n",
              "    background-color: var(--bg-color);\n",
              "    border: none;\n",
              "    border-radius: 50%;\n",
              "    cursor: pointer;\n",
              "    display: none;\n",
              "    fill: var(--fill-color);\n",
              "    height: 32px;\n",
              "    padding: 0;\n",
              "    width: 32px;\n",
              "  }\n",
              "\n",
              "  .colab-df-quickchart:hover {\n",
              "    background-color: var(--hover-bg-color);\n",
              "    box-shadow: 0 1px 2px rgba(60, 64, 67, 0.3), 0 1px 3px 1px rgba(60, 64, 67, 0.15);\n",
              "    fill: var(--button-hover-fill-color);\n",
              "  }\n",
              "\n",
              "  .colab-df-quickchart-complete:disabled,\n",
              "  .colab-df-quickchart-complete:disabled:hover {\n",
              "    background-color: var(--disabled-bg-color);\n",
              "    fill: var(--disabled-fill-color);\n",
              "    box-shadow: none;\n",
              "  }\n",
              "\n",
              "  .colab-df-spinner {\n",
              "    border: 2px solid var(--fill-color);\n",
              "    border-color: transparent;\n",
              "    border-bottom-color: var(--fill-color);\n",
              "    animation:\n",
              "      spin 1s steps(1) infinite;\n",
              "  }\n",
              "\n",
              "  @keyframes spin {\n",
              "    0% {\n",
              "      border-color: transparent;\n",
              "      border-bottom-color: var(--fill-color);\n",
              "      border-left-color: var(--fill-color);\n",
              "    }\n",
              "    20% {\n",
              "      border-color: transparent;\n",
              "      border-left-color: var(--fill-color);\n",
              "      border-top-color: var(--fill-color);\n",
              "    }\n",
              "    30% {\n",
              "      border-color: transparent;\n",
              "      border-left-color: var(--fill-color);\n",
              "      border-top-color: var(--fill-color);\n",
              "      border-right-color: var(--fill-color);\n",
              "    }\n",
              "    40% {\n",
              "      border-color: transparent;\n",
              "      border-right-color: var(--fill-color);\n",
              "      border-top-color: var(--fill-color);\n",
              "    }\n",
              "    60% {\n",
              "      border-color: transparent;\n",
              "      border-right-color: var(--fill-color);\n",
              "    }\n",
              "    80% {\n",
              "      border-color: transparent;\n",
              "      border-right-color: var(--fill-color);\n",
              "      border-bottom-color: var(--fill-color);\n",
              "    }\n",
              "    90% {\n",
              "      border-color: transparent;\n",
              "      border-bottom-color: var(--fill-color);\n",
              "    }\n",
              "  }\n",
              "</style>\n",
              "\n",
              "  <script>\n",
              "    async function quickchart(key) {\n",
              "      const quickchartButtonEl =\n",
              "        document.querySelector('#' + key + ' button');\n",
              "      quickchartButtonEl.disabled = true;  // To prevent multiple clicks.\n",
              "      quickchartButtonEl.classList.add('colab-df-spinner');\n",
              "      try {\n",
              "        const charts = await google.colab.kernel.invokeFunction(\n",
              "            'suggestCharts', [key], {});\n",
              "      } catch (error) {\n",
              "        console.error('Error during call to suggestCharts:', error);\n",
              "      }\n",
              "      quickchartButtonEl.classList.remove('colab-df-spinner');\n",
              "      quickchartButtonEl.classList.add('colab-df-quickchart-complete');\n",
              "    }\n",
              "    (() => {\n",
              "      let quickchartButtonEl =\n",
              "        document.querySelector('#df-31407a5c-924f-49f5-9a4a-45615d728a74 button');\n",
              "      quickchartButtonEl.style.display =\n",
              "        google.colab.kernel.accessAllowed ? 'block' : 'none';\n",
              "    })();\n",
              "  </script>\n",
              "</div>\n",
              "\n",
              "    </div>\n",
              "  </div>\n"
            ],
            "application/vnd.google.colaboratory.intrinsic+json": {
              "type": "dataframe",
              "variable_name": "df",
              "summary": "{\n  \"name\": \"df\",\n  \"rows\": 1917,\n  \"fields\": [\n    {\n      \"column\": \"stratum2\",\n      \"properties\": {\n        \"dtype\": \"category\",\n        \"num_unique_values\": 6,\n        \"samples\": [\n          \"\\u65b0\\u8208\\u5e02\\u93ae\",\n          \"\\u50b3\\u7d71\\u7522\\u696d\\u5e02\\u93ae\",\n          \"\\u9ad8\\u9f61\\u5316\\u9109\\u93ae+\\u504f\\u9060\\u9109\\u93ae\"\n        ],\n        \"semantic_type\": \"\",\n        \"description\": \"\"\n      }\n    },\n    {\n      \"column\": \"f_job\",\n      \"properties\": {\n        \"dtype\": \"category\",\n        \"num_unique_values\": 4,\n        \"samples\": [\n          \"\\u516c\\u90e8\\u9580\",\n          \"\\u7121\\u5de5\\u4f5c\",\n          \"\\u81ea\\u884c\\u5275\\u696d\"\n        ],\n        \"semantic_type\": \"\",\n        \"description\": \"\"\n      }\n    },\n    {\n      \"column\": \"age\",\n      \"properties\": {\n        \"dtype\": \"number\",\n        \"std\": 14,\n        \"min\": 9,\n        \"max\": 71,\n        \"num_unique_values\": 54,\n        \"samples\": [\n          66,\n          23,\n          21\n        ],\n        \"semantic_type\": \"\",\n        \"description\": \"\"\n      }\n    },\n    {\n      \"column\": \"edu\",\n      \"properties\": {\n        \"dtype\": \"number\",\n        \"std\": 3.708537965854376,\n        \"min\": 0.0,\n        \"max\": 23.0,\n        \"num_unique_values\": 9,\n        \"samples\": [\n          15.0,\n          14.0,\n          0.0\n        ],\n        \"semantic_type\": \"\",\n        \"description\": \"\"\n      }\n    },\n    {\n      \"column\": \"strata_young\",\n      \"properties\": {\n        \"dtype\": \"number\",\n        \"std\": 1.0181830486173356,\n        \"min\": 1.0,\n        \"max\": 5.0,\n        \"num_unique_values\": 5,\n        \"samples\": [\n          2.0,\n          5.0,\n          4.0\n        ],\n        \"semantic_type\": \"\",\n        \"description\": \"\"\n      }\n    },\n    {\n      \"column\": \"strata_current\",\n      \"properties\": {\n        \"dtype\": \"number\",\n        \"std\": 0.8384166410640861,\n        \"min\": 1.0,\n        \"max\": 5.0,\n        \"num_unique_values\": 5,\n        \"samples\": [\n          3.0,\n          5.0,\n          4.0\n        ],\n        \"semantic_type\": \"\",\n        \"description\": \"\"\n      }\n    },\n    {\n      \"column\": \"is_entrepreneur\",\n      \"properties\": {\n        \"dtype\": \"number\",\n        \"std\": 0.37635102191733505,\n        \"min\": 0.0,\n        \"max\": 1.0,\n        \"num_unique_values\": 2,\n        \"samples\": [\n          1.0,\n          0.0\n        ],\n        \"semantic_type\": \"\",\n        \"description\": \"\"\n      }\n    },\n    {\n      \"column\": \"f_edu\",\n      \"properties\": {\n        \"dtype\": \"number\",\n        \"std\": 4.775673458958895,\n        \"min\": 0.0,\n        \"max\": 23.0,\n        \"num_unique_values\": 9,\n        \"samples\": [\n          15.0,\n          6.0\n        ],\n        \"semantic_type\": \"\",\n        \"description\": \"\"\n      }\n    },\n    {\n      \"column\": \"trust\",\n      \"properties\": {\n        \"dtype\": \"number\",\n        \"std\": 0.8246925736063175,\n        \"min\": 0.0,\n        \"max\": 3.0,\n        \"num_unique_values\": 4,\n        \"samples\": [\n          1.0,\n          2.0\n        ],\n        \"semantic_type\": \"\",\n        \"description\": \"\"\n      }\n    },\n    {\n      \"column\": \"health\",\n      \"properties\": {\n        \"dtype\": \"number\",\n        \"std\": 0.5870784964493282,\n        \"min\": 2.0,\n        \"max\": 4.0,\n        \"num_unique_values\": 3,\n        \"samples\": [\n          2.0,\n          4.0\n        ],\n        \"semantic_type\": \"\",\n        \"description\": \"\"\n      }\n    },\n    {\n      \"column\": \"happy\",\n      \"properties\": {\n        \"dtype\": \"number\",\n        \"std\": 0.6934849641209068,\n        \"min\": 0.0,\n        \"max\": 3.0,\n        \"num_unique_values\": 4,\n        \"samples\": [\n          3.0,\n          0.0\n        ],\n        \"semantic_type\": \"\",\n        \"description\": \"\"\n      }\n    },\n    {\n      \"column\": \"worktime\",\n      \"properties\": {\n        \"dtype\": \"number\",\n        \"std\": 0.8582528853056202,\n        \"min\": 2.0,\n        \"max\": 7.0,\n        \"num_unique_values\": 11,\n        \"samples\": [\n          2.0,\n          6.0\n        ],\n        \"semantic_type\": \"\",\n        \"description\": \"\"\n      }\n    },\n    {\n      \"column\": \"gender\",\n      \"properties\": {\n        \"dtype\": \"number\",\n        \"std\": 0,\n        \"min\": 0,\n        \"max\": 1,\n        \"num_unique_values\": 2,\n        \"samples\": [\n          1,\n          0\n        ],\n        \"semantic_type\": \"\",\n        \"description\": \"\"\n      }\n    },\n    {\n      \"column\": \"income\",\n      \"properties\": {\n        \"dtype\": \"number\",\n        \"std\": 4.961449996826398,\n        \"min\": 0.0,\n        \"max\": 26.0,\n        \"num_unique_values\": 27,\n        \"samples\": [\n          3.0,\n          2.0\n        ],\n        \"semantic_type\": \"\",\n        \"description\": \"\"\n      }\n    }\n  ]\n}"
            }
          },
          "metadata": {},
          "execution_count": 13
        }
      ]
    },
    {
      "cell_type": "code",
      "source": [
        "df = df.dropna().reset_index(drop = True)\n",
        "df.head()"
      ],
      "metadata": {
        "colab": {
          "base_uri": "https://localhost:8080/",
          "height": 313
        },
        "id": "Aj9T5XmR5qPS",
        "outputId": "09915981-bc77-4a0f-882b-baf4913eecd9"
      },
      "execution_count": 14,
      "outputs": [
        {
          "output_type": "execute_result",
          "data": {
            "text/plain": [
              "  stratum2 f_job  age   edu  strata_young  strata_current  is_entrepreneur  \\\n",
              "0   傳統產業市鎮  自行創業   52  14.0           4.0             4.0              1.0   \n",
              "1     工商市區  自行創業   41  12.0           3.0             3.0              1.0   \n",
              "2   傳統產業市鎮  自行創業   61   9.0           2.0             3.0              0.0   \n",
              "3   傳統產業市鎮  自行創業   67   6.0           3.0             3.0              0.0   \n",
              "4   傳統產業市鎮  自行創業   62   6.0           3.0             2.0              1.0   \n",
              "\n",
              "   f_edu  trust  health  happy  worktime  gender  income  \n",
              "0    6.0    3.0     3.0    2.0       7.0       1     9.0  \n",
              "1    6.0    1.0     2.0    3.0       7.0       1     0.0  \n",
              "2    6.0    1.0     2.0    3.0       5.0       0     7.0  \n",
              "3    0.0    1.0     3.0    1.0       4.0       1     6.0  \n",
              "4    0.0    0.0     3.0    2.0       2.0       1     4.0  "
            ],
            "text/html": [
              "\n",
              "  <div id=\"df-da499398-6a6f-470a-9267-bccd9f3134cf\" class=\"colab-df-container\">\n",
              "    <div>\n",
              "<style scoped>\n",
              "    .dataframe tbody tr th:only-of-type {\n",
              "        vertical-align: middle;\n",
              "    }\n",
              "\n",
              "    .dataframe tbody tr th {\n",
              "        vertical-align: top;\n",
              "    }\n",
              "\n",
              "    .dataframe thead th {\n",
              "        text-align: right;\n",
              "    }\n",
              "</style>\n",
              "<table border=\"1\" class=\"dataframe\">\n",
              "  <thead>\n",
              "    <tr style=\"text-align: right;\">\n",
              "      <th></th>\n",
              "      <th>stratum2</th>\n",
              "      <th>f_job</th>\n",
              "      <th>age</th>\n",
              "      <th>edu</th>\n",
              "      <th>strata_young</th>\n",
              "      <th>strata_current</th>\n",
              "      <th>is_entrepreneur</th>\n",
              "      <th>f_edu</th>\n",
              "      <th>trust</th>\n",
              "      <th>health</th>\n",
              "      <th>happy</th>\n",
              "      <th>worktime</th>\n",
              "      <th>gender</th>\n",
              "      <th>income</th>\n",
              "    </tr>\n",
              "  </thead>\n",
              "  <tbody>\n",
              "    <tr>\n",
              "      <th>0</th>\n",
              "      <td>傳統產業市鎮</td>\n",
              "      <td>自行創業</td>\n",
              "      <td>52</td>\n",
              "      <td>14.0</td>\n",
              "      <td>4.0</td>\n",
              "      <td>4.0</td>\n",
              "      <td>1.0</td>\n",
              "      <td>6.0</td>\n",
              "      <td>3.0</td>\n",
              "      <td>3.0</td>\n",
              "      <td>2.0</td>\n",
              "      <td>7.0</td>\n",
              "      <td>1</td>\n",
              "      <td>9.0</td>\n",
              "    </tr>\n",
              "    <tr>\n",
              "      <th>1</th>\n",
              "      <td>工商市區</td>\n",
              "      <td>自行創業</td>\n",
              "      <td>41</td>\n",
              "      <td>12.0</td>\n",
              "      <td>3.0</td>\n",
              "      <td>3.0</td>\n",
              "      <td>1.0</td>\n",
              "      <td>6.0</td>\n",
              "      <td>1.0</td>\n",
              "      <td>2.0</td>\n",
              "      <td>3.0</td>\n",
              "      <td>7.0</td>\n",
              "      <td>1</td>\n",
              "      <td>0.0</td>\n",
              "    </tr>\n",
              "    <tr>\n",
              "      <th>2</th>\n",
              "      <td>傳統產業市鎮</td>\n",
              "      <td>自行創業</td>\n",
              "      <td>61</td>\n",
              "      <td>9.0</td>\n",
              "      <td>2.0</td>\n",
              "      <td>3.0</td>\n",
              "      <td>0.0</td>\n",
              "      <td>6.0</td>\n",
              "      <td>1.0</td>\n",
              "      <td>2.0</td>\n",
              "      <td>3.0</td>\n",
              "      <td>5.0</td>\n",
              "      <td>0</td>\n",
              "      <td>7.0</td>\n",
              "    </tr>\n",
              "    <tr>\n",
              "      <th>3</th>\n",
              "      <td>傳統產業市鎮</td>\n",
              "      <td>自行創業</td>\n",
              "      <td>67</td>\n",
              "      <td>6.0</td>\n",
              "      <td>3.0</td>\n",
              "      <td>3.0</td>\n",
              "      <td>0.0</td>\n",
              "      <td>0.0</td>\n",
              "      <td>1.0</td>\n",
              "      <td>3.0</td>\n",
              "      <td>1.0</td>\n",
              "      <td>4.0</td>\n",
              "      <td>1</td>\n",
              "      <td>6.0</td>\n",
              "    </tr>\n",
              "    <tr>\n",
              "      <th>4</th>\n",
              "      <td>傳統產業市鎮</td>\n",
              "      <td>自行創業</td>\n",
              "      <td>62</td>\n",
              "      <td>6.0</td>\n",
              "      <td>3.0</td>\n",
              "      <td>2.0</td>\n",
              "      <td>1.0</td>\n",
              "      <td>0.0</td>\n",
              "      <td>0.0</td>\n",
              "      <td>3.0</td>\n",
              "      <td>2.0</td>\n",
              "      <td>2.0</td>\n",
              "      <td>1</td>\n",
              "      <td>4.0</td>\n",
              "    </tr>\n",
              "  </tbody>\n",
              "</table>\n",
              "</div>\n",
              "    <div class=\"colab-df-buttons\">\n",
              "\n",
              "  <div class=\"colab-df-container\">\n",
              "    <button class=\"colab-df-convert\" onclick=\"convertToInteractive('df-da499398-6a6f-470a-9267-bccd9f3134cf')\"\n",
              "            title=\"Convert this dataframe to an interactive table.\"\n",
              "            style=\"display:none;\">\n",
              "\n",
              "  <svg xmlns=\"http://www.w3.org/2000/svg\" height=\"24px\" viewBox=\"0 -960 960 960\">\n",
              "    <path d=\"M120-120v-720h720v720H120Zm60-500h600v-160H180v160Zm220 220h160v-160H400v160Zm0 220h160v-160H400v160ZM180-400h160v-160H180v160Zm440 0h160v-160H620v160ZM180-180h160v-160H180v160Zm440 0h160v-160H620v160Z\"/>\n",
              "  </svg>\n",
              "    </button>\n",
              "\n",
              "  <style>\n",
              "    .colab-df-container {\n",
              "      display:flex;\n",
              "      gap: 12px;\n",
              "    }\n",
              "\n",
              "    .colab-df-convert {\n",
              "      background-color: #E8F0FE;\n",
              "      border: none;\n",
              "      border-radius: 50%;\n",
              "      cursor: pointer;\n",
              "      display: none;\n",
              "      fill: #1967D2;\n",
              "      height: 32px;\n",
              "      padding: 0 0 0 0;\n",
              "      width: 32px;\n",
              "    }\n",
              "\n",
              "    .colab-df-convert:hover {\n",
              "      background-color: #E2EBFA;\n",
              "      box-shadow: 0px 1px 2px rgba(60, 64, 67, 0.3), 0px 1px 3px 1px rgba(60, 64, 67, 0.15);\n",
              "      fill: #174EA6;\n",
              "    }\n",
              "\n",
              "    .colab-df-buttons div {\n",
              "      margin-bottom: 4px;\n",
              "    }\n",
              "\n",
              "    [theme=dark] .colab-df-convert {\n",
              "      background-color: #3B4455;\n",
              "      fill: #D2E3FC;\n",
              "    }\n",
              "\n",
              "    [theme=dark] .colab-df-convert:hover {\n",
              "      background-color: #434B5C;\n",
              "      box-shadow: 0px 1px 3px 1px rgba(0, 0, 0, 0.15);\n",
              "      filter: drop-shadow(0px 1px 2px rgba(0, 0, 0, 0.3));\n",
              "      fill: #FFFFFF;\n",
              "    }\n",
              "  </style>\n",
              "\n",
              "    <script>\n",
              "      const buttonEl =\n",
              "        document.querySelector('#df-da499398-6a6f-470a-9267-bccd9f3134cf button.colab-df-convert');\n",
              "      buttonEl.style.display =\n",
              "        google.colab.kernel.accessAllowed ? 'block' : 'none';\n",
              "\n",
              "      async function convertToInteractive(key) {\n",
              "        const element = document.querySelector('#df-da499398-6a6f-470a-9267-bccd9f3134cf');\n",
              "        const dataTable =\n",
              "          await google.colab.kernel.invokeFunction('convertToInteractive',\n",
              "                                                    [key], {});\n",
              "        if (!dataTable) return;\n",
              "\n",
              "        const docLinkHtml = 'Like what you see? Visit the ' +\n",
              "          '<a target=\"_blank\" href=https://colab.research.google.com/notebooks/data_table.ipynb>data table notebook</a>'\n",
              "          + ' to learn more about interactive tables.';\n",
              "        element.innerHTML = '';\n",
              "        dataTable['output_type'] = 'display_data';\n",
              "        await google.colab.output.renderOutput(dataTable, element);\n",
              "        const docLink = document.createElement('div');\n",
              "        docLink.innerHTML = docLinkHtml;\n",
              "        element.appendChild(docLink);\n",
              "      }\n",
              "    </script>\n",
              "  </div>\n",
              "\n",
              "\n",
              "<div id=\"df-1fbd34d0-943c-4fac-8534-c36fdddf390d\">\n",
              "  <button class=\"colab-df-quickchart\" onclick=\"quickchart('df-1fbd34d0-943c-4fac-8534-c36fdddf390d')\"\n",
              "            title=\"Suggest charts\"\n",
              "            style=\"display:none;\">\n",
              "\n",
              "<svg xmlns=\"http://www.w3.org/2000/svg\" height=\"24px\"viewBox=\"0 0 24 24\"\n",
              "     width=\"24px\">\n",
              "    <g>\n",
              "        <path d=\"M19 3H5c-1.1 0-2 .9-2 2v14c0 1.1.9 2 2 2h14c1.1 0 2-.9 2-2V5c0-1.1-.9-2-2-2zM9 17H7v-7h2v7zm4 0h-2V7h2v10zm4 0h-2v-4h2v4z\"/>\n",
              "    </g>\n",
              "</svg>\n",
              "  </button>\n",
              "\n",
              "<style>\n",
              "  .colab-df-quickchart {\n",
              "      --bg-color: #E8F0FE;\n",
              "      --fill-color: #1967D2;\n",
              "      --hover-bg-color: #E2EBFA;\n",
              "      --hover-fill-color: #174EA6;\n",
              "      --disabled-fill-color: #AAA;\n",
              "      --disabled-bg-color: #DDD;\n",
              "  }\n",
              "\n",
              "  [theme=dark] .colab-df-quickchart {\n",
              "      --bg-color: #3B4455;\n",
              "      --fill-color: #D2E3FC;\n",
              "      --hover-bg-color: #434B5C;\n",
              "      --hover-fill-color: #FFFFFF;\n",
              "      --disabled-bg-color: #3B4455;\n",
              "      --disabled-fill-color: #666;\n",
              "  }\n",
              "\n",
              "  .colab-df-quickchart {\n",
              "    background-color: var(--bg-color);\n",
              "    border: none;\n",
              "    border-radius: 50%;\n",
              "    cursor: pointer;\n",
              "    display: none;\n",
              "    fill: var(--fill-color);\n",
              "    height: 32px;\n",
              "    padding: 0;\n",
              "    width: 32px;\n",
              "  }\n",
              "\n",
              "  .colab-df-quickchart:hover {\n",
              "    background-color: var(--hover-bg-color);\n",
              "    box-shadow: 0 1px 2px rgba(60, 64, 67, 0.3), 0 1px 3px 1px rgba(60, 64, 67, 0.15);\n",
              "    fill: var(--button-hover-fill-color);\n",
              "  }\n",
              "\n",
              "  .colab-df-quickchart-complete:disabled,\n",
              "  .colab-df-quickchart-complete:disabled:hover {\n",
              "    background-color: var(--disabled-bg-color);\n",
              "    fill: var(--disabled-fill-color);\n",
              "    box-shadow: none;\n",
              "  }\n",
              "\n",
              "  .colab-df-spinner {\n",
              "    border: 2px solid var(--fill-color);\n",
              "    border-color: transparent;\n",
              "    border-bottom-color: var(--fill-color);\n",
              "    animation:\n",
              "      spin 1s steps(1) infinite;\n",
              "  }\n",
              "\n",
              "  @keyframes spin {\n",
              "    0% {\n",
              "      border-color: transparent;\n",
              "      border-bottom-color: var(--fill-color);\n",
              "      border-left-color: var(--fill-color);\n",
              "    }\n",
              "    20% {\n",
              "      border-color: transparent;\n",
              "      border-left-color: var(--fill-color);\n",
              "      border-top-color: var(--fill-color);\n",
              "    }\n",
              "    30% {\n",
              "      border-color: transparent;\n",
              "      border-left-color: var(--fill-color);\n",
              "      border-top-color: var(--fill-color);\n",
              "      border-right-color: var(--fill-color);\n",
              "    }\n",
              "    40% {\n",
              "      border-color: transparent;\n",
              "      border-right-color: var(--fill-color);\n",
              "      border-top-color: var(--fill-color);\n",
              "    }\n",
              "    60% {\n",
              "      border-color: transparent;\n",
              "      border-right-color: var(--fill-color);\n",
              "    }\n",
              "    80% {\n",
              "      border-color: transparent;\n",
              "      border-right-color: var(--fill-color);\n",
              "      border-bottom-color: var(--fill-color);\n",
              "    }\n",
              "    90% {\n",
              "      border-color: transparent;\n",
              "      border-bottom-color: var(--fill-color);\n",
              "    }\n",
              "  }\n",
              "</style>\n",
              "\n",
              "  <script>\n",
              "    async function quickchart(key) {\n",
              "      const quickchartButtonEl =\n",
              "        document.querySelector('#' + key + ' button');\n",
              "      quickchartButtonEl.disabled = true;  // To prevent multiple clicks.\n",
              "      quickchartButtonEl.classList.add('colab-df-spinner');\n",
              "      try {\n",
              "        const charts = await google.colab.kernel.invokeFunction(\n",
              "            'suggestCharts', [key], {});\n",
              "      } catch (error) {\n",
              "        console.error('Error during call to suggestCharts:', error);\n",
              "      }\n",
              "      quickchartButtonEl.classList.remove('colab-df-spinner');\n",
              "      quickchartButtonEl.classList.add('colab-df-quickchart-complete');\n",
              "    }\n",
              "    (() => {\n",
              "      let quickchartButtonEl =\n",
              "        document.querySelector('#df-1fbd34d0-943c-4fac-8534-c36fdddf390d button');\n",
              "      quickchartButtonEl.style.display =\n",
              "        google.colab.kernel.accessAllowed ? 'block' : 'none';\n",
              "    })();\n",
              "  </script>\n",
              "</div>\n",
              "\n",
              "    </div>\n",
              "  </div>\n"
            ],
            "application/vnd.google.colaboratory.intrinsic+json": {
              "type": "dataframe",
              "variable_name": "df",
              "summary": "{\n  \"name\": \"df\",\n  \"rows\": 1012,\n  \"fields\": [\n    {\n      \"column\": \"stratum2\",\n      \"properties\": {\n        \"dtype\": \"category\",\n        \"num_unique_values\": 5,\n        \"samples\": [\n          \"\\u5de5\\u5546\\u5e02\\u5340\",\n          \"\\u90fd\\u6703\\u6838\\u5fc3\",\n          \"\\u65b0\\u8208\\u5e02\\u93ae\"\n        ],\n        \"semantic_type\": \"\",\n        \"description\": \"\"\n      }\n    },\n    {\n      \"column\": \"f_job\",\n      \"properties\": {\n        \"dtype\": \"category\",\n        \"num_unique_values\": 4,\n        \"samples\": [\n          \"\\u516c\\u90e8\\u9580\",\n          \"\\u7121\\u5de5\\u4f5c\",\n          \"\\u81ea\\u884c\\u5275\\u696d\"\n        ],\n        \"semantic_type\": \"\",\n        \"description\": \"\"\n      }\n    },\n    {\n      \"column\": \"age\",\n      \"properties\": {\n        \"dtype\": \"number\",\n        \"std\": 13,\n        \"min\": 9,\n        \"max\": 71,\n        \"num_unique_values\": 54,\n        \"samples\": [\n          58,\n          22,\n          9\n        ],\n        \"semantic_type\": \"\",\n        \"description\": \"\"\n      }\n    },\n    {\n      \"column\": \"edu\",\n      \"properties\": {\n        \"dtype\": \"number\",\n        \"std\": 3.6338599815793775,\n        \"min\": 0.0,\n        \"max\": 23.0,\n        \"num_unique_values\": 9,\n        \"samples\": [\n          15.0,\n          12.0,\n          0.0\n        ],\n        \"semantic_type\": \"\",\n        \"description\": \"\"\n      }\n    },\n    {\n      \"column\": \"strata_young\",\n      \"properties\": {\n        \"dtype\": \"number\",\n        \"std\": 1.000928090765769,\n        \"min\": 1.0,\n        \"max\": 5.0,\n        \"num_unique_values\": 5,\n        \"samples\": [\n          3.0,\n          5.0,\n          2.0\n        ],\n        \"semantic_type\": \"\",\n        \"description\": \"\"\n      }\n    },\n    {\n      \"column\": \"strata_current\",\n      \"properties\": {\n        \"dtype\": \"number\",\n        \"std\": 0.8273387404190483,\n        \"min\": 1.0,\n        \"max\": 5.0,\n        \"num_unique_values\": 5,\n        \"samples\": [\n          3.0,\n          5.0,\n          2.0\n        ],\n        \"semantic_type\": \"\",\n        \"description\": \"\"\n      }\n    },\n    {\n      \"column\": \"is_entrepreneur\",\n      \"properties\": {\n        \"dtype\": \"number\",\n        \"std\": 0.38175363597734463,\n        \"min\": 0.0,\n        \"max\": 1.0,\n        \"num_unique_values\": 2,\n        \"samples\": [\n          0.0,\n          1.0\n        ],\n        \"semantic_type\": \"\",\n        \"description\": \"\"\n      }\n    },\n    {\n      \"column\": \"f_edu\",\n      \"properties\": {\n        \"dtype\": \"number\",\n        \"std\": 4.617581841225816,\n        \"min\": 0.0,\n        \"max\": 23.0,\n        \"num_unique_values\": 9,\n        \"samples\": [\n          15.0,\n          0.0\n        ],\n        \"semantic_type\": \"\",\n        \"description\": \"\"\n      }\n    },\n    {\n      \"column\": \"trust\",\n      \"properties\": {\n        \"dtype\": \"number\",\n        \"std\": 0.8066179811098637,\n        \"min\": 0.0,\n        \"max\": 3.0,\n        \"num_unique_values\": 4,\n        \"samples\": [\n          1.0,\n          2.0\n        ],\n        \"semantic_type\": \"\",\n        \"description\": \"\"\n      }\n    },\n    {\n      \"column\": \"health\",\n      \"properties\": {\n        \"dtype\": \"number\",\n        \"std\": 0.5798368498229074,\n        \"min\": 2.0,\n        \"max\": 4.0,\n        \"num_unique_values\": 3,\n        \"samples\": [\n          3.0,\n          2.0\n        ],\n        \"semantic_type\": \"\",\n        \"description\": \"\"\n      }\n    },\n    {\n      \"column\": \"happy\",\n      \"properties\": {\n        \"dtype\": \"number\",\n        \"std\": 0.6620099951441283,\n        \"min\": 0.0,\n        \"max\": 3.0,\n        \"num_unique_values\": 4,\n        \"samples\": [\n          3.0,\n          0.0\n        ],\n        \"semantic_type\": \"\",\n        \"description\": \"\"\n      }\n    },\n    {\n      \"column\": \"worktime\",\n      \"properties\": {\n        \"dtype\": \"number\",\n        \"std\": 0.8126738160346386,\n        \"min\": 2.0,\n        \"max\": 7.0,\n        \"num_unique_values\": 10,\n        \"samples\": [\n          4.5,\n          5.0\n        ],\n        \"semantic_type\": \"\",\n        \"description\": \"\"\n      }\n    },\n    {\n      \"column\": \"gender\",\n      \"properties\": {\n        \"dtype\": \"number\",\n        \"std\": 0,\n        \"min\": 0,\n        \"max\": 1,\n        \"num_unique_values\": 2,\n        \"samples\": [\n          0,\n          1\n        ],\n        \"semantic_type\": \"\",\n        \"description\": \"\"\n      }\n    },\n    {\n      \"column\": \"income\",\n      \"properties\": {\n        \"dtype\": \"number\",\n        \"std\": 4.761299115874492,\n        \"min\": 0.0,\n        \"max\": 26.0,\n        \"num_unique_values\": 26,\n        \"samples\": [\n          1.0,\n          15.0\n        ],\n        \"semantic_type\": \"\",\n        \"description\": \"\"\n      }\n    }\n  ]\n}"
            }
          },
          "metadata": {},
          "execution_count": 14
        }
      ]
    },
    {
      "cell_type": "code",
      "source": [
        "df.shape"
      ],
      "metadata": {
        "colab": {
          "base_uri": "https://localhost:8080/"
        },
        "id": "Zq9KED4KBzJX",
        "outputId": "b4805260-3cd5-4baf-abe2-2f2f398b9bb6"
      },
      "execution_count": 15,
      "outputs": [
        {
          "output_type": "execute_result",
          "data": {
            "text/plain": [
              "(1012, 14)"
            ]
          },
          "metadata": {},
          "execution_count": 15
        }
      ]
    },
    {
      "cell_type": "code",
      "source": [
        "temp = pd.get_dummies(df[['stratum2','f_job']], dtype = float)\n",
        "df = pd.concat([df, temp], axis=1)\n",
        "df.head()"
      ],
      "metadata": {
        "colab": {
          "base_uri": "https://localhost:8080/",
          "height": 377
        },
        "id": "StnpwQlPH69f",
        "outputId": "b0f8bac3-72e5-4202-b6ca-eb406f9455c7"
      },
      "execution_count": 16,
      "outputs": [
        {
          "output_type": "execute_result",
          "data": {
            "text/plain": [
              "  stratum2 f_job  age   edu  strata_young  strata_current  is_entrepreneur  \\\n",
              "0   傳統產業市鎮  自行創業   52  14.0           4.0             4.0              1.0   \n",
              "1     工商市區  自行創業   41  12.0           3.0             3.0              1.0   \n",
              "2   傳統產業市鎮  自行創業   61   9.0           2.0             3.0              0.0   \n",
              "3   傳統產業市鎮  自行創業   67   6.0           3.0             3.0              0.0   \n",
              "4   傳統產業市鎮  自行創業   62   6.0           3.0             2.0              1.0   \n",
              "\n",
              "   f_edu  trust  health  ...  income  stratum2_低度發展鄉鎮  stratum2_傳統產業市鎮  \\\n",
              "0    6.0    3.0     3.0  ...     9.0              0.0              1.0   \n",
              "1    6.0    1.0     2.0  ...     0.0              0.0              0.0   \n",
              "2    6.0    1.0     2.0  ...     7.0              0.0              1.0   \n",
              "3    0.0    1.0     3.0  ...     6.0              0.0              1.0   \n",
              "4    0.0    0.0     3.0  ...     4.0              0.0              1.0   \n",
              "\n",
              "   stratum2_工商市區  stratum2_新興市鎮  stratum2_都會核心  f_job_公部門  f_job_無工作  \\\n",
              "0            0.0            0.0            0.0        0.0        0.0   \n",
              "1            1.0            0.0            0.0        0.0        0.0   \n",
              "2            0.0            0.0            0.0        0.0        0.0   \n",
              "3            0.0            0.0            0.0        0.0        0.0   \n",
              "4            0.0            0.0            0.0        0.0        0.0   \n",
              "\n",
              "   f_job_私部門  f_job_自行創業  \n",
              "0        0.0         1.0  \n",
              "1        0.0         1.0  \n",
              "2        0.0         1.0  \n",
              "3        0.0         1.0  \n",
              "4        0.0         1.0  \n",
              "\n",
              "[5 rows x 23 columns]"
            ],
            "text/html": [
              "\n",
              "  <div id=\"df-7f6119ef-61e7-4901-9fdc-b15b0f42bc50\" class=\"colab-df-container\">\n",
              "    <div>\n",
              "<style scoped>\n",
              "    .dataframe tbody tr th:only-of-type {\n",
              "        vertical-align: middle;\n",
              "    }\n",
              "\n",
              "    .dataframe tbody tr th {\n",
              "        vertical-align: top;\n",
              "    }\n",
              "\n",
              "    .dataframe thead th {\n",
              "        text-align: right;\n",
              "    }\n",
              "</style>\n",
              "<table border=\"1\" class=\"dataframe\">\n",
              "  <thead>\n",
              "    <tr style=\"text-align: right;\">\n",
              "      <th></th>\n",
              "      <th>stratum2</th>\n",
              "      <th>f_job</th>\n",
              "      <th>age</th>\n",
              "      <th>edu</th>\n",
              "      <th>strata_young</th>\n",
              "      <th>strata_current</th>\n",
              "      <th>is_entrepreneur</th>\n",
              "      <th>f_edu</th>\n",
              "      <th>trust</th>\n",
              "      <th>health</th>\n",
              "      <th>...</th>\n",
              "      <th>income</th>\n",
              "      <th>stratum2_低度發展鄉鎮</th>\n",
              "      <th>stratum2_傳統產業市鎮</th>\n",
              "      <th>stratum2_工商市區</th>\n",
              "      <th>stratum2_新興市鎮</th>\n",
              "      <th>stratum2_都會核心</th>\n",
              "      <th>f_job_公部門</th>\n",
              "      <th>f_job_無工作</th>\n",
              "      <th>f_job_私部門</th>\n",
              "      <th>f_job_自行創業</th>\n",
              "    </tr>\n",
              "  </thead>\n",
              "  <tbody>\n",
              "    <tr>\n",
              "      <th>0</th>\n",
              "      <td>傳統產業市鎮</td>\n",
              "      <td>自行創業</td>\n",
              "      <td>52</td>\n",
              "      <td>14.0</td>\n",
              "      <td>4.0</td>\n",
              "      <td>4.0</td>\n",
              "      <td>1.0</td>\n",
              "      <td>6.0</td>\n",
              "      <td>3.0</td>\n",
              "      <td>3.0</td>\n",
              "      <td>...</td>\n",
              "      <td>9.0</td>\n",
              "      <td>0.0</td>\n",
              "      <td>1.0</td>\n",
              "      <td>0.0</td>\n",
              "      <td>0.0</td>\n",
              "      <td>0.0</td>\n",
              "      <td>0.0</td>\n",
              "      <td>0.0</td>\n",
              "      <td>0.0</td>\n",
              "      <td>1.0</td>\n",
              "    </tr>\n",
              "    <tr>\n",
              "      <th>1</th>\n",
              "      <td>工商市區</td>\n",
              "      <td>自行創業</td>\n",
              "      <td>41</td>\n",
              "      <td>12.0</td>\n",
              "      <td>3.0</td>\n",
              "      <td>3.0</td>\n",
              "      <td>1.0</td>\n",
              "      <td>6.0</td>\n",
              "      <td>1.0</td>\n",
              "      <td>2.0</td>\n",
              "      <td>...</td>\n",
              "      <td>0.0</td>\n",
              "      <td>0.0</td>\n",
              "      <td>0.0</td>\n",
              "      <td>1.0</td>\n",
              "      <td>0.0</td>\n",
              "      <td>0.0</td>\n",
              "      <td>0.0</td>\n",
              "      <td>0.0</td>\n",
              "      <td>0.0</td>\n",
              "      <td>1.0</td>\n",
              "    </tr>\n",
              "    <tr>\n",
              "      <th>2</th>\n",
              "      <td>傳統產業市鎮</td>\n",
              "      <td>自行創業</td>\n",
              "      <td>61</td>\n",
              "      <td>9.0</td>\n",
              "      <td>2.0</td>\n",
              "      <td>3.0</td>\n",
              "      <td>0.0</td>\n",
              "      <td>6.0</td>\n",
              "      <td>1.0</td>\n",
              "      <td>2.0</td>\n",
              "      <td>...</td>\n",
              "      <td>7.0</td>\n",
              "      <td>0.0</td>\n",
              "      <td>1.0</td>\n",
              "      <td>0.0</td>\n",
              "      <td>0.0</td>\n",
              "      <td>0.0</td>\n",
              "      <td>0.0</td>\n",
              "      <td>0.0</td>\n",
              "      <td>0.0</td>\n",
              "      <td>1.0</td>\n",
              "    </tr>\n",
              "    <tr>\n",
              "      <th>3</th>\n",
              "      <td>傳統產業市鎮</td>\n",
              "      <td>自行創業</td>\n",
              "      <td>67</td>\n",
              "      <td>6.0</td>\n",
              "      <td>3.0</td>\n",
              "      <td>3.0</td>\n",
              "      <td>0.0</td>\n",
              "      <td>0.0</td>\n",
              "      <td>1.0</td>\n",
              "      <td>3.0</td>\n",
              "      <td>...</td>\n",
              "      <td>6.0</td>\n",
              "      <td>0.0</td>\n",
              "      <td>1.0</td>\n",
              "      <td>0.0</td>\n",
              "      <td>0.0</td>\n",
              "      <td>0.0</td>\n",
              "      <td>0.0</td>\n",
              "      <td>0.0</td>\n",
              "      <td>0.0</td>\n",
              "      <td>1.0</td>\n",
              "    </tr>\n",
              "    <tr>\n",
              "      <th>4</th>\n",
              "      <td>傳統產業市鎮</td>\n",
              "      <td>自行創業</td>\n",
              "      <td>62</td>\n",
              "      <td>6.0</td>\n",
              "      <td>3.0</td>\n",
              "      <td>2.0</td>\n",
              "      <td>1.0</td>\n",
              "      <td>0.0</td>\n",
              "      <td>0.0</td>\n",
              "      <td>3.0</td>\n",
              "      <td>...</td>\n",
              "      <td>4.0</td>\n",
              "      <td>0.0</td>\n",
              "      <td>1.0</td>\n",
              "      <td>0.0</td>\n",
              "      <td>0.0</td>\n",
              "      <td>0.0</td>\n",
              "      <td>0.0</td>\n",
              "      <td>0.0</td>\n",
              "      <td>0.0</td>\n",
              "      <td>1.0</td>\n",
              "    </tr>\n",
              "  </tbody>\n",
              "</table>\n",
              "<p>5 rows × 23 columns</p>\n",
              "</div>\n",
              "    <div class=\"colab-df-buttons\">\n",
              "\n",
              "  <div class=\"colab-df-container\">\n",
              "    <button class=\"colab-df-convert\" onclick=\"convertToInteractive('df-7f6119ef-61e7-4901-9fdc-b15b0f42bc50')\"\n",
              "            title=\"Convert this dataframe to an interactive table.\"\n",
              "            style=\"display:none;\">\n",
              "\n",
              "  <svg xmlns=\"http://www.w3.org/2000/svg\" height=\"24px\" viewBox=\"0 -960 960 960\">\n",
              "    <path d=\"M120-120v-720h720v720H120Zm60-500h600v-160H180v160Zm220 220h160v-160H400v160Zm0 220h160v-160H400v160ZM180-400h160v-160H180v160Zm440 0h160v-160H620v160ZM180-180h160v-160H180v160Zm440 0h160v-160H620v160Z\"/>\n",
              "  </svg>\n",
              "    </button>\n",
              "\n",
              "  <style>\n",
              "    .colab-df-container {\n",
              "      display:flex;\n",
              "      gap: 12px;\n",
              "    }\n",
              "\n",
              "    .colab-df-convert {\n",
              "      background-color: #E8F0FE;\n",
              "      border: none;\n",
              "      border-radius: 50%;\n",
              "      cursor: pointer;\n",
              "      display: none;\n",
              "      fill: #1967D2;\n",
              "      height: 32px;\n",
              "      padding: 0 0 0 0;\n",
              "      width: 32px;\n",
              "    }\n",
              "\n",
              "    .colab-df-convert:hover {\n",
              "      background-color: #E2EBFA;\n",
              "      box-shadow: 0px 1px 2px rgba(60, 64, 67, 0.3), 0px 1px 3px 1px rgba(60, 64, 67, 0.15);\n",
              "      fill: #174EA6;\n",
              "    }\n",
              "\n",
              "    .colab-df-buttons div {\n",
              "      margin-bottom: 4px;\n",
              "    }\n",
              "\n",
              "    [theme=dark] .colab-df-convert {\n",
              "      background-color: #3B4455;\n",
              "      fill: #D2E3FC;\n",
              "    }\n",
              "\n",
              "    [theme=dark] .colab-df-convert:hover {\n",
              "      background-color: #434B5C;\n",
              "      box-shadow: 0px 1px 3px 1px rgba(0, 0, 0, 0.15);\n",
              "      filter: drop-shadow(0px 1px 2px rgba(0, 0, 0, 0.3));\n",
              "      fill: #FFFFFF;\n",
              "    }\n",
              "  </style>\n",
              "\n",
              "    <script>\n",
              "      const buttonEl =\n",
              "        document.querySelector('#df-7f6119ef-61e7-4901-9fdc-b15b0f42bc50 button.colab-df-convert');\n",
              "      buttonEl.style.display =\n",
              "        google.colab.kernel.accessAllowed ? 'block' : 'none';\n",
              "\n",
              "      async function convertToInteractive(key) {\n",
              "        const element = document.querySelector('#df-7f6119ef-61e7-4901-9fdc-b15b0f42bc50');\n",
              "        const dataTable =\n",
              "          await google.colab.kernel.invokeFunction('convertToInteractive',\n",
              "                                                    [key], {});\n",
              "        if (!dataTable) return;\n",
              "\n",
              "        const docLinkHtml = 'Like what you see? Visit the ' +\n",
              "          '<a target=\"_blank\" href=https://colab.research.google.com/notebooks/data_table.ipynb>data table notebook</a>'\n",
              "          + ' to learn more about interactive tables.';\n",
              "        element.innerHTML = '';\n",
              "        dataTable['output_type'] = 'display_data';\n",
              "        await google.colab.output.renderOutput(dataTable, element);\n",
              "        const docLink = document.createElement('div');\n",
              "        docLink.innerHTML = docLinkHtml;\n",
              "        element.appendChild(docLink);\n",
              "      }\n",
              "    </script>\n",
              "  </div>\n",
              "\n",
              "\n",
              "<div id=\"df-60b6a713-00c3-4236-8464-b0d422143063\">\n",
              "  <button class=\"colab-df-quickchart\" onclick=\"quickchart('df-60b6a713-00c3-4236-8464-b0d422143063')\"\n",
              "            title=\"Suggest charts\"\n",
              "            style=\"display:none;\">\n",
              "\n",
              "<svg xmlns=\"http://www.w3.org/2000/svg\" height=\"24px\"viewBox=\"0 0 24 24\"\n",
              "     width=\"24px\">\n",
              "    <g>\n",
              "        <path d=\"M19 3H5c-1.1 0-2 .9-2 2v14c0 1.1.9 2 2 2h14c1.1 0 2-.9 2-2V5c0-1.1-.9-2-2-2zM9 17H7v-7h2v7zm4 0h-2V7h2v10zm4 0h-2v-4h2v4z\"/>\n",
              "    </g>\n",
              "</svg>\n",
              "  </button>\n",
              "\n",
              "<style>\n",
              "  .colab-df-quickchart {\n",
              "      --bg-color: #E8F0FE;\n",
              "      --fill-color: #1967D2;\n",
              "      --hover-bg-color: #E2EBFA;\n",
              "      --hover-fill-color: #174EA6;\n",
              "      --disabled-fill-color: #AAA;\n",
              "      --disabled-bg-color: #DDD;\n",
              "  }\n",
              "\n",
              "  [theme=dark] .colab-df-quickchart {\n",
              "      --bg-color: #3B4455;\n",
              "      --fill-color: #D2E3FC;\n",
              "      --hover-bg-color: #434B5C;\n",
              "      --hover-fill-color: #FFFFFF;\n",
              "      --disabled-bg-color: #3B4455;\n",
              "      --disabled-fill-color: #666;\n",
              "  }\n",
              "\n",
              "  .colab-df-quickchart {\n",
              "    background-color: var(--bg-color);\n",
              "    border: none;\n",
              "    border-radius: 50%;\n",
              "    cursor: pointer;\n",
              "    display: none;\n",
              "    fill: var(--fill-color);\n",
              "    height: 32px;\n",
              "    padding: 0;\n",
              "    width: 32px;\n",
              "  }\n",
              "\n",
              "  .colab-df-quickchart:hover {\n",
              "    background-color: var(--hover-bg-color);\n",
              "    box-shadow: 0 1px 2px rgba(60, 64, 67, 0.3), 0 1px 3px 1px rgba(60, 64, 67, 0.15);\n",
              "    fill: var(--button-hover-fill-color);\n",
              "  }\n",
              "\n",
              "  .colab-df-quickchart-complete:disabled,\n",
              "  .colab-df-quickchart-complete:disabled:hover {\n",
              "    background-color: var(--disabled-bg-color);\n",
              "    fill: var(--disabled-fill-color);\n",
              "    box-shadow: none;\n",
              "  }\n",
              "\n",
              "  .colab-df-spinner {\n",
              "    border: 2px solid var(--fill-color);\n",
              "    border-color: transparent;\n",
              "    border-bottom-color: var(--fill-color);\n",
              "    animation:\n",
              "      spin 1s steps(1) infinite;\n",
              "  }\n",
              "\n",
              "  @keyframes spin {\n",
              "    0% {\n",
              "      border-color: transparent;\n",
              "      border-bottom-color: var(--fill-color);\n",
              "      border-left-color: var(--fill-color);\n",
              "    }\n",
              "    20% {\n",
              "      border-color: transparent;\n",
              "      border-left-color: var(--fill-color);\n",
              "      border-top-color: var(--fill-color);\n",
              "    }\n",
              "    30% {\n",
              "      border-color: transparent;\n",
              "      border-left-color: var(--fill-color);\n",
              "      border-top-color: var(--fill-color);\n",
              "      border-right-color: var(--fill-color);\n",
              "    }\n",
              "    40% {\n",
              "      border-color: transparent;\n",
              "      border-right-color: var(--fill-color);\n",
              "      border-top-color: var(--fill-color);\n",
              "    }\n",
              "    60% {\n",
              "      border-color: transparent;\n",
              "      border-right-color: var(--fill-color);\n",
              "    }\n",
              "    80% {\n",
              "      border-color: transparent;\n",
              "      border-right-color: var(--fill-color);\n",
              "      border-bottom-color: var(--fill-color);\n",
              "    }\n",
              "    90% {\n",
              "      border-color: transparent;\n",
              "      border-bottom-color: var(--fill-color);\n",
              "    }\n",
              "  }\n",
              "</style>\n",
              "\n",
              "  <script>\n",
              "    async function quickchart(key) {\n",
              "      const quickchartButtonEl =\n",
              "        document.querySelector('#' + key + ' button');\n",
              "      quickchartButtonEl.disabled = true;  // To prevent multiple clicks.\n",
              "      quickchartButtonEl.classList.add('colab-df-spinner');\n",
              "      try {\n",
              "        const charts = await google.colab.kernel.invokeFunction(\n",
              "            'suggestCharts', [key], {});\n",
              "      } catch (error) {\n",
              "        console.error('Error during call to suggestCharts:', error);\n",
              "      }\n",
              "      quickchartButtonEl.classList.remove('colab-df-spinner');\n",
              "      quickchartButtonEl.classList.add('colab-df-quickchart-complete');\n",
              "    }\n",
              "    (() => {\n",
              "      let quickchartButtonEl =\n",
              "        document.querySelector('#df-60b6a713-00c3-4236-8464-b0d422143063 button');\n",
              "      quickchartButtonEl.style.display =\n",
              "        google.colab.kernel.accessAllowed ? 'block' : 'none';\n",
              "    })();\n",
              "  </script>\n",
              "</div>\n",
              "\n",
              "    </div>\n",
              "  </div>\n"
            ],
            "application/vnd.google.colaboratory.intrinsic+json": {
              "type": "dataframe",
              "variable_name": "df"
            }
          },
          "metadata": {},
          "execution_count": 16
        }
      ]
    },
    {
      "cell_type": "markdown",
      "source": [
        "### **（二）工具變量驗證**\n",
        "\n",
        "一個合適的工具變量必須滿足相關性（Relevance）及外生性（Exogeniety）兩大條件，在這個情況下，相關性代表必須與兩個模型的 $T$ 有足夠強的相關性；外生性代表其與誤差項（error term）不能有任何相關。"
      ],
      "metadata": {
        "id": "M2RgRh1xDJmV"
      }
    },
    {
      "cell_type": "markdown",
      "source": [
        "IV的相關性驗證如下："
      ],
      "metadata": {
        "id": "DYjF4MBoGiFy"
      }
    },
    {
      "cell_type": "code",
      "source": [
        "Controls = ['stratum2_低度發展鄉鎮', 'stratum2_傳統產業市鎮', 'stratum2_新興市鎮', 'stratum2_工商市區', 'stratum2_都會核心',\n",
        "     'f_job_公部門','f_job_私部門', 'f_job_自行創業', 'f_job_無工作','age','edu','gender']\n",
        "Y1 = 'strata_current'\n",
        "T1 = 'strata_young'\n",
        "T2 = 'is_entrepreneur'\n",
        "Z1 = ['f_edu','trust','happy']\n",
        "Z2 = ['worktime','income']"
      ],
      "metadata": {
        "id": "fAid2uf9TiCC"
      },
      "execution_count": 62,
      "outputs": []
    },
    {
      "cell_type": "code",
      "source": [
        "import statsmodels.api as sm\n",
        "Y = df[Y1]\n",
        "T1 = df[T1]\n",
        "T2 = df[T2]\n",
        "Z = df[Z1+Z2]\n",
        "X = df[Controls]\n",
        "\n",
        "# IV + Controls\n",
        "IVs = pd.concat([Z, X], axis=1)\n",
        "\n",
        "# Regress T1 on IV & Controls\n",
        "first_stage = sm.OLS(T1, sm.add_constant(IVs)).fit()\n",
        "T1_hat = first_stage.predict(sm.add_constant(IVs))\n",
        "\n",
        "# F-test\n",
        "f_test = first_stage.f_test(' + '.join(Z1+Z2) + ' = 0')\n",
        "print(f_test.summary())"
      ],
      "metadata": {
        "colab": {
          "base_uri": "https://localhost:8080/"
        },
        "id": "aj5btzLJU-hH",
        "outputId": "8c6513a0-8c5e-47f2-e131-66806a2de148",
        "collapsed": true
      },
      "execution_count": 63,
      "outputs": [
        {
          "output_type": "stream",
          "name": "stdout",
          "text": [
            "<F test: F=18.48924560396811, p=1.876652545206585e-05, df_denom=996, df_num=1>\n"
          ]
        }
      ]
    },
    {
      "cell_type": "markdown",
      "source": [
        "$$\n",
        "H_0: \\beta_{\\text{f_edu}} = \\beta_{\\text{trust}} = \\beta_{\\text{happy}} = \\beta_{\\text{worktime}} = \\beta_{\\text{income}} = 0 \\\\\n",
        "F = 17.32, p \\approx 0\n",
        "\\\\\n",
        "\\text{拒絕 $H_0$，我們有足夠的證據說明這些IV符合Relevance條件。}\n",
        "$$"
      ],
      "metadata": {
        "id": "8_vhNWCRW1Ee"
      }
    },
    {
      "cell_type": "code",
      "source": [
        "# Regress T2 on IV & Controls\n",
        "first_stage = sm.OLS(T2, sm.add_constant(IVs)).fit()\n",
        "T2_hat = first_stage.predict(sm.add_constant(IVs))\n",
        "\n",
        "# F-test\n",
        "f_test = first_stage.f_test(' + '.join(Z1+Z2) + ' = 0')\n",
        "print(f_test.summary())"
      ],
      "metadata": {
        "colab": {
          "base_uri": "https://localhost:8080/"
        },
        "id": "xN0KRBdcWkQe",
        "outputId": "86bd3320-91e8-465d-adef-81a43b2e2189"
      },
      "execution_count": 64,
      "outputs": [
        {
          "output_type": "stream",
          "name": "stdout",
          "text": [
            "<F test: F=42.04400514928525, p=1.4024816452415174e-10, df_denom=996, df_num=1>\n"
          ]
        }
      ]
    },
    {
      "cell_type": "markdown",
      "source": [
        "$$\n",
        "H_0: \\beta_{\\text{f_edu}} = \\beta_{\\text{trust}} = \\beta_{\\text{happy}} = \\beta_{\\text{worktime}} = \\beta_{\\text{income}} = 0 \\\\\n",
        "F = 44.275, p \\approx 0\n",
        "\\\\\n",
        "\\text{拒絕 $H_0$，我們有足夠的證據說明這些IV符合Relevance條件。}\n",
        "$$"
      ],
      "metadata": {
        "id": "4fXXobtLWx7e"
      }
    },
    {
      "cell_type": "markdown",
      "source": [
        "### **（三）機器學習模型挑選**\n",
        "\n",
        "候選ML模型如下：Linear Regression, Lasso Regression, Ridge Regression, SVR, Decision Tree, Random Forest Regression, Gradient Bossting Regression. 我們利用MSE作為判斷指標，評估模型預設表現，並為表現最好的模型調整參數。\n",
        "\n",
        "根據DoubleML官方的介紹（https://docs.doubleml.org/stable/api/generated/doubleml.DoubleMLPLIV.html ），一個含有工具變量的模型需要輸入三個ML模型，分別處理三個nuisance function：\n",
        "\n",
        "\n",
        "1.   `ml_l`: $\\ell_0(X) = E[Y | X]$\n",
        "2.   `ml_m`: $m_0(X) = E[Z | X]$\n",
        "3.   `ml_r`: $r_0(X) = E[D | X]$\n",
        "\n",
        "\n",
        "因此，我們首先應該篩選最適合的三個模型。"
      ],
      "metadata": {
        "id": "fNsU7A7XYSR2"
      }
    },
    {
      "cell_type": "markdown",
      "source": [
        "##### 首先挑選`ml_l`的模型："
      ],
      "metadata": {
        "id": "527p2ogvYSR-"
      }
    },
    {
      "cell_type": "code",
      "source": [
        "Controls = ['stratum2_低度發展鄉鎮', 'stratum2_傳統產業市鎮', 'stratum2_新興市鎮', 'stratum2_工商市區', 'stratum2_都會核心',\n",
        "     'f_job_公部門','f_job_私部門', 'f_job_自行創業', 'f_job_無工作','age','edu','gender']\n",
        "Y1 = 'strata_current'\n",
        "T1 = 'strata_young'\n",
        "T2 = 'is_entrepreneur'\n",
        "Z1 = ['f_edu','trust','happy']\n",
        "Z2 = ['worktime','income']\n",
        "df['T1T2'] = df[T1]*df[T2]"
      ],
      "metadata": {
        "id": "tQN7bJMabYOX"
      },
      "execution_count": null,
      "outputs": []
    },
    {
      "cell_type": "code",
      "source": [
        "import numpy as np\n",
        "from sklearn.model_selection import KFold\n",
        "from sklearn.model_selection import train_test_split\n",
        "from sklearn.linear_model import LinearRegression, Lasso, Ridge\n",
        "from sklearn.svm import SVR\n",
        "from sklearn.tree import DecisionTreeRegressor\n",
        "from sklearn.ensemble import RandomForestRegressor, GradientBoostingRegressor\n",
        "from sklearn.metrics import mean_squared_error\n",
        "from sklearn.metrics import accuracy_score\n",
        "\n",
        "Y = df[Y1]\n",
        "X = df[Controls]\n",
        "\n",
        "models = [\n",
        "    LinearRegression(),\n",
        "    Lasso(),\n",
        "    Ridge(),\n",
        "    SVR(),\n",
        "    DecisionTreeRegressor(),\n",
        "    RandomForestRegressor(),\n",
        "    GradientBoostingRegressor()\n",
        "]\n",
        "\n",
        "model_names = [\n",
        "    \"Linear Regression\",\n",
        "    \"Lasso Regression\",\n",
        "    \"Ridge Regression\",\n",
        "    \"Support Vector Regression\",\n",
        "    \"Decision Tree Regression\",\n",
        "    \"Random Forest Regression\",\n",
        "    \"Gradient Boosting Regression\"\n",
        "]\n",
        "\n",
        "kf = KFold(n_splits=5, shuffle=True, random_state=42)\n",
        "\n",
        "for model, name in zip(models, model_names):\n",
        "    mse_scores = []\n",
        "    for train_index, test_index in kf.split(X):\n",
        "        X_train, X_test = X.iloc[train_index], X.iloc[test_index]\n",
        "        Y_train, Y_test = Y.iloc[train_index], Y.iloc[test_index]\n",
        "\n",
        "        model.fit(X_train, Y_train)  # 訓練模型\n",
        "        Y_pred = model.predict(X_test)  # 預測\n",
        "        mse = mean_squared_error(Y_test, Y_pred)  # 計算 MSE\n",
        "        mse_scores.append(mse)\n",
        "\n",
        "    avg_mse = np.mean(mse_scores)  # 計算平均 MSE\n",
        "    print(f\"{name} Average MSE: {avg_mse}\")"
      ],
      "metadata": {
        "colab": {
          "base_uri": "https://localhost:8080/"
        },
        "id": "XbN-ft19bdWd",
        "outputId": "15710b03-49e6-4efe-9316-b221c268e1b7"
      },
      "execution_count": null,
      "outputs": [
        {
          "output_type": "stream",
          "name": "stdout",
          "text": [
            "Linear Regression Average MSE: 0.6108475082627703\n",
            "Lasso Regression Average MSE: 0.6855060303568834\n",
            "Ridge Regression Average MSE: 0.6106899115807071\n",
            "Support Vector Regression Average MSE: 0.6649528268967251\n",
            "Decision Tree Regression Average MSE: 1.2870147729058619\n",
            "Random Forest Regression Average MSE: 0.7812805517644386\n",
            "Gradient Boosting Regression Average MSE: 0.6640361214929005\n"
          ]
        }
      ]
    },
    {
      "cell_type": "markdown",
      "source": [
        "Lasso Regressor為最佳的模型，為Lasso Regressor調整參數，先確定參數大致範圍，再進一步細調："
      ],
      "metadata": {
        "id": "IvlZFdsOk7Qp"
      }
    },
    {
      "cell_type": "code",
      "source": [
        "from sklearn.model_selection import RandomizedSearchCV, GridSearchCV\n",
        "param_grid = {\n",
        "    'alpha': [0.001, 0.01, 0.1, 1, 10, 100]\n",
        "}\n",
        "\n",
        "# 初始化 Lasso Regressor\n",
        "lasso = Lasso()\n",
        "\n",
        "# 使用 GridSearchCV 尋找最佳參數\n",
        "grid_search = GridSearchCV(lasso, param_grid, cv=5, scoring='neg_mean_squared_error')\n",
        "grid_search.fit(X, Y)\n",
        "\n",
        "# 印出最佳參數\n",
        "print(\"Best Parameters:\", grid_search.best_params_)"
      ],
      "metadata": {
        "colab": {
          "base_uri": "https://localhost:8080/"
        },
        "id": "-Z4dr449lLyi",
        "outputId": "9ef2b992-ef0c-435b-ba08-8ecde6aae26d"
      },
      "execution_count": null,
      "outputs": [
        {
          "output_type": "stream",
          "name": "stdout",
          "text": [
            "Best Parameters: {'alpha': 0.01}\n"
          ]
        }
      ]
    },
    {
      "cell_type": "code",
      "source": [
        "param_grid = {\n",
        "    'alpha': np.arange(0.001, 0.011, 0.01)\n",
        "}\n",
        "\n",
        "# 初始化 Lasso Regressor\n",
        "lasso = Lasso()\n",
        "\n",
        "# 使用 GridSearchCV 尋找最佳參數\n",
        "grid_search = GridSearchCV(lasso, param_grid, cv=5, scoring='neg_mean_squared_error')\n",
        "grid_search.fit(X, Y)\n",
        "\n",
        "# 印出最佳參數\n",
        "print(\"Best Parameters:\", grid_search.best_params_['alpha'])"
      ],
      "metadata": {
        "colab": {
          "base_uri": "https://localhost:8080/"
        },
        "id": "WiiCOO41liCh",
        "outputId": "39b44399-306f-438e-bb65-c98845d7a06a"
      },
      "execution_count": null,
      "outputs": [
        {
          "output_type": "stream",
          "name": "stdout",
          "text": [
            "Best Parameters: 0.001\n"
          ]
        }
      ]
    },
    {
      "cell_type": "code",
      "source": [
        "ml_l_lasso = Lasso(alpha=0.001)\n",
        "\n",
        "# MSE\n",
        "ml_l_lasso.fit(X, Y)\n",
        "Y_hat = ml_l_lasso.predict(X)\n",
        "mse_lasso = mean_squared_error(Y, Y_hat)\n",
        "print(\"Lasso Regression MSE with best parameter:\", mse_lasso)"
      ],
      "metadata": {
        "colab": {
          "base_uri": "https://localhost:8080/"
        },
        "id": "cnHnEmWpl80X",
        "outputId": "57cc5863-6b84-4bfb-9613-e66e6ef06e90"
      },
      "execution_count": null,
      "outputs": [
        {
          "output_type": "stream",
          "name": "stdout",
          "text": [
            "Lasso Regression MSE with best parameter: 0.5981209331801444\n"
          ]
        }
      ]
    },
    {
      "cell_type": "markdown",
      "source": [
        "##### 接下來挑選`ml_m`的模型："
      ],
      "metadata": {
        "id": "nDLZL-0TdAhN"
      }
    },
    {
      "cell_type": "code",
      "source": [
        "from sklearn.multioutput import MultiOutputRegressor\n",
        "X = df[Controls]\n",
        "Y = pd.concat([df[T1], df[T2], df['T1T2']], axis=1)\n",
        "\n",
        "models = [\n",
        "    LinearRegression(),\n",
        "    Lasso(),\n",
        "    Ridge(),\n",
        "    MultiOutputRegressor(SVR()),\n",
        "    MultiOutputRegressor(DecisionTreeRegressor()),\n",
        "    MultiOutputRegressor(RandomForestRegressor()),\n",
        "    MultiOutputRegressor(GradientBoostingRegressor())\n",
        "]\n",
        "\n",
        "for model, name in zip(models, model_names):\n",
        "    mse_scores = []\n",
        "    for train_index, test_index in kf.split(X):\n",
        "        X_train, X_test = X.iloc[train_index], X.iloc[test_index]\n",
        "        Y_train, Y_test = Y.iloc[train_index], Y.iloc[test_index]\n",
        "\n",
        "        model.fit(X_train, Y_train)  # 訓練模型\n",
        "        Y_pred = model.predict(X_test)  # 預測\n",
        "        mse = mean_squared_error(Y_test, Y_pred)  # 計算 MSE\n",
        "        mse_scores.append(mse)\n",
        "\n",
        "    avg_mse = np.mean(mse_scores)  # 計算平均 MSE\n",
        "    print(f\"{name} Average MSE: {avg_mse}\")"
      ],
      "metadata": {
        "colab": {
          "base_uri": "https://localhost:8080/"
        },
        "id": "un7ob5pEzNuI",
        "outputId": "ef39ef25-8511-48b5-ff91-30f38b2fc64e"
      },
      "execution_count": null,
      "outputs": [
        {
          "output_type": "stream",
          "name": "stdout",
          "text": [
            "Linear Regression Average MSE: 0.7965795377367939\n",
            "Lasso Regression Average MSE: 0.830752778129144\n",
            "Ridge Regression Average MSE: 0.796337756751414\n",
            "Support Vector Regression Average MSE: 0.8864706687451852\n",
            "Decision Tree Regression Average MSE: 1.6099078544964514\n",
            "Random Forest Regression Average MSE: 0.949149061934541\n",
            "Gradient Boosting Regression Average MSE: 0.8396037673412481\n"
          ]
        }
      ]
    },
    {
      "cell_type": "markdown",
      "source": [
        "整體而言，Ridge的表現最佳，調整參數："
      ],
      "metadata": {
        "id": "I4OXwlPd0SWI"
      }
    },
    {
      "cell_type": "code",
      "source": [
        "param_grid = {\n",
        "    'alpha': [0.001, 0.01, 0.1, 1, 10, 100]\n",
        "}\n",
        "\n",
        "# 初始化 Lasso Regressor\n",
        "ridge = Ridge()\n",
        "\n",
        "# 使用 GridSearchCV 尋找最佳參數\n",
        "grid_search = GridSearchCV(ridge, param_grid, cv=5, scoring='neg_mean_squared_error')\n",
        "grid_search.fit(X, Y)\n",
        "\n",
        "# 印出最佳參數\n",
        "print(\"Best Parameters:\", grid_search.best_params_['alpha'])"
      ],
      "metadata": {
        "colab": {
          "base_uri": "https://localhost:8080/"
        },
        "id": "3EzyqNp_8wh0",
        "outputId": "5daf43cf-60d6-4e04-9860-6a94026f8876"
      },
      "execution_count": null,
      "outputs": [
        {
          "output_type": "stream",
          "name": "stdout",
          "text": [
            "Best Parameters: 100\n"
          ]
        }
      ]
    },
    {
      "cell_type": "markdown",
      "source": [
        "按照大致範圍，繼續搜索具體的最佳參數"
      ],
      "metadata": {
        "id": "uyAifRqPPGTn"
      }
    },
    {
      "cell_type": "code",
      "source": [
        "param_grid = {\n",
        "    'alpha': range(50,300,1)\n",
        "}\n",
        "\n",
        "# 初始化 Lasso Regressor\n",
        "ridge = Ridge()\n",
        "\n",
        "# 使用 GridSearchCV 尋找最佳參數\n",
        "grid_search = GridSearchCV(ridge, param_grid, cv=5, scoring='neg_mean_squared_error')\n",
        "grid_search.fit(X, Y)\n",
        "\n",
        "# 印出最佳參數\n",
        "print(\"Best Parameters:\", grid_search.best_params_['alpha'])"
      ],
      "metadata": {
        "colab": {
          "base_uri": "https://localhost:8080/"
        },
        "id": "W1JvRotYEF9t",
        "outputId": "3375dbcc-d481-46e7-f4be-aba455fdeef8"
      },
      "execution_count": null,
      "outputs": [
        {
          "output_type": "stream",
          "name": "stdout",
          "text": [
            "Best Parameters: 70\n"
          ]
        }
      ]
    },
    {
      "cell_type": "markdown",
      "source": [
        "...再進一步細調"
      ],
      "metadata": {
        "id": "nL9uny5pPK_o"
      }
    },
    {
      "cell_type": "code",
      "source": [
        "param_grid = {\n",
        "    'alpha': np.arange(70,80,0.1)\n",
        "}\n",
        "\n",
        "# 初始化 Lasso Regressor\n",
        "ridge = Ridge()\n",
        "\n",
        "# 使用 GridSearchCV 尋找最佳參數\n",
        "grid_search = GridSearchCV(ridge, param_grid, cv=5, scoring='neg_mean_squared_error')\n",
        "grid_search.fit(X, Y)\n",
        "\n",
        "# 印出最佳參數\n",
        "print(\"Best Parameters:\", grid_search.best_params_['alpha'])"
      ],
      "metadata": {
        "colab": {
          "base_uri": "https://localhost:8080/"
        },
        "id": "9bGG_wdYEPog",
        "outputId": "dfabc005-0364-4d36-ac07-3cb0aa944160"
      },
      "execution_count": null,
      "outputs": [
        {
          "output_type": "stream",
          "name": "stdout",
          "text": [
            "Best Parameters: 70.1\n"
          ]
        }
      ]
    },
    {
      "cell_type": "code",
      "source": [
        "ml_m_ridge = Ridge(alpha=70.1)\n",
        "\n",
        "# MSE\n",
        "ml_m_ridge.fit(X, Y)\n",
        "Y_hat = ml_m_ridge.predict(X)\n",
        "mse_lasso = mean_squared_error(Y, Y_hat)\n",
        "print(\"Ridge Regression MSE with best parameter:\", mse_lasso)"
      ],
      "metadata": {
        "colab": {
          "base_uri": "https://localhost:8080/"
        },
        "id": "pEudjNa-EY6t",
        "outputId": "5f40b84c-abe7-4b1d-f265-17f51fde0076"
      },
      "execution_count": null,
      "outputs": [
        {
          "output_type": "stream",
          "name": "stdout",
          "text": [
            "Ridge Regression MSE with best parameter: 0.7788104471540026\n"
          ]
        }
      ]
    },
    {
      "cell_type": "markdown",
      "source": [
        "##### 最後挑選`ml_r`的模型："
      ],
      "metadata": {
        "id": "Uf1M-RAXPa7p"
      }
    },
    {
      "cell_type": "code",
      "source": [
        "from sklearn.multioutput import MultiOutputRegressor\n",
        "X = df[Controls]\n",
        "Y = df[Z1+Z2]\n",
        "\n",
        "models = [\n",
        "    LinearRegression(),\n",
        "    Lasso(),\n",
        "    Ridge(),\n",
        "    MultiOutputRegressor(SVR()),\n",
        "    MultiOutputRegressor(DecisionTreeRegressor()),\n",
        "    MultiOutputRegressor(RandomForestRegressor()),\n",
        "    MultiOutputRegressor(GradientBoostingRegressor())\n",
        "]\n",
        "\n",
        "for model, name in zip(models, model_names):\n",
        "    mse_scores = []\n",
        "    for train_index, test_index in kf.split(X):\n",
        "        X_train, X_test = X.iloc[train_index], X.iloc[test_index]\n",
        "        Y_train, Y_test = Y.iloc[train_index], Y.iloc[test_index]\n",
        "\n",
        "        model.fit(X_train, Y_train)  # 訓練模型\n",
        "        Y_pred = model.predict(X_test)  # 預測\n",
        "        mse = mean_squared_error(Y_test, Y_pred)  # 計算 MSE\n",
        "        mse_scores.append(mse)\n",
        "\n",
        "    avg_mse = np.mean(mse_scores)  # 計算平均 MSE\n",
        "    print(f\"{name} Average MSE: {avg_mse}\")"
      ],
      "metadata": {
        "colab": {
          "base_uri": "https://localhost:8080/"
        },
        "outputId": "6a7a9794-1b4f-42eb-87b7-89ce73ee9610",
        "id": "LjolxnAUPa7x"
      },
      "execution_count": null,
      "outputs": [
        {
          "output_type": "stream",
          "name": "stdout",
          "text": [
            "Linear Regression Average MSE: 6.821811230225416\n",
            "Lasso Regression Average MSE: 7.165074942798237\n",
            "Ridge Regression Average MSE: 6.820221224691551\n",
            "Support Vector Regression Average MSE: 7.656936712090302\n",
            "Decision Tree Regression Average MSE: 13.386068580207773\n",
            "Random Forest Regression Average MSE: 7.904988771297977\n",
            "Gradient Boosting Regression Average MSE: 6.9865319300533475\n"
          ]
        }
      ]
    },
    {
      "cell_type": "markdown",
      "source": [
        "整體而言，Ridge的表現最佳，但鑒於前面的經驗，可以順便嘗試調GBR的參數。"
      ],
      "metadata": {
        "id": "Hafwb2GOPa7y"
      }
    },
    {
      "cell_type": "code",
      "source": [
        "param_grid = {\n",
        "    'alpha': [0.001, 0.01, 0.1, 1, 10, 100]\n",
        "}\n",
        "\n",
        "# 初始化 Lasso Regressor\n",
        "ridge = Ridge()\n",
        "\n",
        "# 使用 GridSearchCV 尋找最佳參數\n",
        "grid_search = GridSearchCV(ridge, param_grid, cv=5, scoring='neg_mean_squared_error')\n",
        "grid_search.fit(X, Y)\n",
        "\n",
        "# 印出最佳參數\n",
        "print(\"Best Parameters:\", grid_search.best_params_['alpha'])"
      ],
      "metadata": {
        "colab": {
          "base_uri": "https://localhost:8080/"
        },
        "outputId": "d8466c55-0437-4c44-b4bc-af836ec9029a",
        "id": "5cjyoRYEPa7y"
      },
      "execution_count": null,
      "outputs": [
        {
          "output_type": "stream",
          "name": "stdout",
          "text": [
            "Best Parameters: 10\n"
          ]
        }
      ]
    },
    {
      "cell_type": "markdown",
      "source": [
        "按照大致範圍，繼續搜索具體的最佳參數"
      ],
      "metadata": {
        "id": "sD7dROf6Pa7y"
      }
    },
    {
      "cell_type": "code",
      "source": [
        "param_grid = {\n",
        "    'alpha': range(1,20,1)\n",
        "}\n",
        "\n",
        "# 初始化 Lasso Regressor\n",
        "ridge = Ridge()\n",
        "\n",
        "# 使用 GridSearchCV 尋找最佳參數\n",
        "grid_search = GridSearchCV(ridge, param_grid, cv=5, scoring='neg_mean_squared_error')\n",
        "grid_search.fit(X, Y)\n",
        "\n",
        "# 印出最佳參數\n",
        "print(\"Best Parameters:\", grid_search.best_params_['alpha'])"
      ],
      "metadata": {
        "colab": {
          "base_uri": "https://localhost:8080/"
        },
        "outputId": "472c4581-8a6e-4db2-e5df-7f93e557417a",
        "id": "MDMox2QvPa7y"
      },
      "execution_count": null,
      "outputs": [
        {
          "output_type": "stream",
          "name": "stdout",
          "text": [
            "Best Parameters: 19\n"
          ]
        }
      ]
    },
    {
      "cell_type": "markdown",
      "source": [
        "...再進一步細調"
      ],
      "metadata": {
        "id": "KbACNCXsPa7y"
      }
    },
    {
      "cell_type": "code",
      "source": [
        "param_grid = {\n",
        "    'alpha': np.arange(15,25,0.1)\n",
        "}\n",
        "\n",
        "# 初始化 Lasso Regressor\n",
        "ridge = Ridge()\n",
        "\n",
        "# 使用 GridSearchCV 尋找最佳參數\n",
        "grid_search = GridSearchCV(ridge, param_grid, cv=5, scoring='neg_mean_squared_error')\n",
        "grid_search.fit(X, Y)\n",
        "\n",
        "# 印出最佳參數\n",
        "print(\"Best Parameters:\", grid_search.best_params_['alpha'])"
      ],
      "metadata": {
        "colab": {
          "base_uri": "https://localhost:8080/"
        },
        "outputId": "f6966395-5eff-4d5b-f5b0-27e956ec00d8",
        "id": "kub6SXQLPa7y"
      },
      "execution_count": null,
      "outputs": [
        {
          "output_type": "stream",
          "name": "stdout",
          "text": [
            "Best Parameters: 24.899999999999963\n"
          ]
        }
      ]
    },
    {
      "cell_type": "code",
      "source": [
        "ml_r_ridge = Ridge(alpha=24.9)\n",
        "\n",
        "# MSE\n",
        "ml_r_ridge.fit(X, Y)\n",
        "Y_hat = ml_r_ridge.predict(X)\n",
        "mse_lasso = mean_squared_error(Y, Y_hat)\n",
        "print(\"Ridge Regression MSE with best parameter:\", mse_lasso)"
      ],
      "metadata": {
        "colab": {
          "base_uri": "https://localhost:8080/"
        },
        "outputId": "063af26e-e870-4f12-d611-7bf79e679324",
        "id": "zFX5P5Q2Pa7y"
      },
      "execution_count": null,
      "outputs": [
        {
          "output_type": "stream",
          "name": "stdout",
          "text": [
            "Ridge Regression MSE with best parameter: 6.62012924477511\n"
          ]
        }
      ]
    },
    {
      "cell_type": "markdown",
      "source": [
        "### **（四）Double Machine Learning!**"
      ],
      "metadata": {
        "id": "UArR1aV8i7yT"
      }
    },
    {
      "cell_type": "markdown",
      "source": [
        "將上面訓練出來的模型套入`doubleml`套件中的DMLIV。\n"
      ],
      "metadata": {
        "id": "tTwm6RyvwSIz"
      }
    },
    {
      "cell_type": "code",
      "source": [
        "!pip install doubleml"
      ],
      "metadata": {
        "colab": {
          "base_uri": "https://localhost:8080/"
        },
        "id": "L4VBZzLVoLwU",
        "outputId": "516be6fc-64bc-45da-ff84-ac79a62b1b7c",
        "collapsed": true
      },
      "execution_count": null,
      "outputs": [
        {
          "output_type": "stream",
          "name": "stdout",
          "text": [
            "Requirement already satisfied: doubleml in /usr/local/lib/python3.10/dist-packages (0.8.1)\n",
            "Requirement already satisfied: joblib in /usr/local/lib/python3.10/dist-packages (from doubleml) (1.4.2)\n",
            "Requirement already satisfied: numpy in /usr/local/lib/python3.10/dist-packages (from doubleml) (1.25.2)\n",
            "Requirement already satisfied: pandas in /usr/local/lib/python3.10/dist-packages (from doubleml) (2.0.3)\n",
            "Requirement already satisfied: scipy in /usr/local/lib/python3.10/dist-packages (from doubleml) (1.11.4)\n",
            "Requirement already satisfied: scikit-learn in /usr/local/lib/python3.10/dist-packages (from doubleml) (1.5.0)\n",
            "Requirement already satisfied: statsmodels in /usr/local/lib/python3.10/dist-packages (from doubleml) (0.14.2)\n",
            "Requirement already satisfied: plotly in /usr/local/lib/python3.10/dist-packages (from doubleml) (5.15.0)\n",
            "Requirement already satisfied: python-dateutil>=2.8.2 in /usr/local/lib/python3.10/dist-packages (from pandas->doubleml) (2.8.2)\n",
            "Requirement already satisfied: pytz>=2020.1 in /usr/local/lib/python3.10/dist-packages (from pandas->doubleml) (2023.4)\n",
            "Requirement already satisfied: tzdata>=2022.1 in /usr/local/lib/python3.10/dist-packages (from pandas->doubleml) (2024.1)\n",
            "Requirement already satisfied: tenacity>=6.2.0 in /usr/local/lib/python3.10/dist-packages (from plotly->doubleml) (8.3.0)\n",
            "Requirement already satisfied: packaging in /usr/local/lib/python3.10/dist-packages (from plotly->doubleml) (24.1)\n",
            "Requirement already satisfied: threadpoolctl>=3.1.0 in /usr/local/lib/python3.10/dist-packages (from scikit-learn->doubleml) (3.5.0)\n",
            "Requirement already satisfied: patsy>=0.5.6 in /usr/local/lib/python3.10/dist-packages (from statsmodels->doubleml) (0.5.6)\n",
            "Requirement already satisfied: six in /usr/local/lib/python3.10/dist-packages (from patsy>=0.5.6->statsmodels->doubleml) (1.16.0)\n"
          ]
        }
      ]
    },
    {
      "cell_type": "code",
      "source": [
        "Controls = ['stratum2_低度發展鄉鎮', 'stratum2_傳統產業市鎮', 'stratum2_新興市鎮', 'stratum2_工商市區', 'stratum2_都會核心',\n",
        "     'f_job_公部門','f_job_私部門', 'f_job_自行創業', 'f_job_無工作','age','edu','gender']\n",
        "Y1 = 'strata_current'\n",
        "T1 = 'strata_young'\n",
        "T2 = 'is_entrepreneur'\n",
        "Z1 = Z1\n",
        "Z2 = ['worktime','income']\n",
        "df['T1T2'] = df[T1]*df[T2]"
      ],
      "metadata": {
        "id": "6ivHGrgRA9x3"
      },
      "execution_count": null,
      "outputs": []
    },
    {
      "cell_type": "code",
      "source": [
        "import doubleml as dml\n",
        "obj_dml_data = dml.DoubleMLData(df,\n",
        "                                y_col = Y1,\n",
        "                                d_cols = [T1,T2,'T1T2'],\n",
        "                                x_cols = Controls,\n",
        "                                z_cols= Z1 + Z2)\n",
        "\n",
        "dml_pliv_obj = dml.DoubleMLPLIV(obj_dml_data, ml_l = ml_l_lasso, ml_m = ml_m_ridge, ml_r = ml_r_ridge)\n",
        "\n",
        "dml_pliv_obj.fit().summary"
      ],
      "metadata": {
        "id": "fbEObaCawRtX",
        "colab": {
          "base_uri": "https://localhost:8080/",
          "height": 143
        },
        "outputId": "676e6aed-f417-4803-aab0-4c5f398e0124"
      },
      "execution_count": null,
      "outputs": [
        {
          "output_type": "execute_result",
          "data": {
            "text/plain": [
              "                     coef   std err         t     P>|t|      2.5 %    97.5 %\n",
              "strata_young     0.604955  0.127169  4.757079  0.000002   0.355707  0.854203\n",
              "is_entrepreneur -9.660493  4.182702 -2.309630  0.020909 -17.858438 -1.462548\n",
              "T1T2             0.900393  0.342295  2.630461  0.008527   0.229508  1.571279"
            ],
            "text/html": [
              "\n",
              "  <div id=\"df-f8848732-f077-46df-ad0a-f3ce354df257\" class=\"colab-df-container\">\n",
              "    <div>\n",
              "<style scoped>\n",
              "    .dataframe tbody tr th:only-of-type {\n",
              "        vertical-align: middle;\n",
              "    }\n",
              "\n",
              "    .dataframe tbody tr th {\n",
              "        vertical-align: top;\n",
              "    }\n",
              "\n",
              "    .dataframe thead th {\n",
              "        text-align: right;\n",
              "    }\n",
              "</style>\n",
              "<table border=\"1\" class=\"dataframe\">\n",
              "  <thead>\n",
              "    <tr style=\"text-align: right;\">\n",
              "      <th></th>\n",
              "      <th>coef</th>\n",
              "      <th>std err</th>\n",
              "      <th>t</th>\n",
              "      <th>P&gt;|t|</th>\n",
              "      <th>2.5 %</th>\n",
              "      <th>97.5 %</th>\n",
              "    </tr>\n",
              "  </thead>\n",
              "  <tbody>\n",
              "    <tr>\n",
              "      <th>strata_young</th>\n",
              "      <td>0.604955</td>\n",
              "      <td>0.127169</td>\n",
              "      <td>4.757079</td>\n",
              "      <td>0.000002</td>\n",
              "      <td>0.355707</td>\n",
              "      <td>0.854203</td>\n",
              "    </tr>\n",
              "    <tr>\n",
              "      <th>is_entrepreneur</th>\n",
              "      <td>-9.660493</td>\n",
              "      <td>4.182702</td>\n",
              "      <td>-2.309630</td>\n",
              "      <td>0.020909</td>\n",
              "      <td>-17.858438</td>\n",
              "      <td>-1.462548</td>\n",
              "    </tr>\n",
              "    <tr>\n",
              "      <th>T1T2</th>\n",
              "      <td>0.900393</td>\n",
              "      <td>0.342295</td>\n",
              "      <td>2.630461</td>\n",
              "      <td>0.008527</td>\n",
              "      <td>0.229508</td>\n",
              "      <td>1.571279</td>\n",
              "    </tr>\n",
              "  </tbody>\n",
              "</table>\n",
              "</div>\n",
              "    <div class=\"colab-df-buttons\">\n",
              "\n",
              "  <div class=\"colab-df-container\">\n",
              "    <button class=\"colab-df-convert\" onclick=\"convertToInteractive('df-f8848732-f077-46df-ad0a-f3ce354df257')\"\n",
              "            title=\"Convert this dataframe to an interactive table.\"\n",
              "            style=\"display:none;\">\n",
              "\n",
              "  <svg xmlns=\"http://www.w3.org/2000/svg\" height=\"24px\" viewBox=\"0 -960 960 960\">\n",
              "    <path d=\"M120-120v-720h720v720H120Zm60-500h600v-160H180v160Zm220 220h160v-160H400v160Zm0 220h160v-160H400v160ZM180-400h160v-160H180v160Zm440 0h160v-160H620v160ZM180-180h160v-160H180v160Zm440 0h160v-160H620v160Z\"/>\n",
              "  </svg>\n",
              "    </button>\n",
              "\n",
              "  <style>\n",
              "    .colab-df-container {\n",
              "      display:flex;\n",
              "      gap: 12px;\n",
              "    }\n",
              "\n",
              "    .colab-df-convert {\n",
              "      background-color: #E8F0FE;\n",
              "      border: none;\n",
              "      border-radius: 50%;\n",
              "      cursor: pointer;\n",
              "      display: none;\n",
              "      fill: #1967D2;\n",
              "      height: 32px;\n",
              "      padding: 0 0 0 0;\n",
              "      width: 32px;\n",
              "    }\n",
              "\n",
              "    .colab-df-convert:hover {\n",
              "      background-color: #E2EBFA;\n",
              "      box-shadow: 0px 1px 2px rgba(60, 64, 67, 0.3), 0px 1px 3px 1px rgba(60, 64, 67, 0.15);\n",
              "      fill: #174EA6;\n",
              "    }\n",
              "\n",
              "    .colab-df-buttons div {\n",
              "      margin-bottom: 4px;\n",
              "    }\n",
              "\n",
              "    [theme=dark] .colab-df-convert {\n",
              "      background-color: #3B4455;\n",
              "      fill: #D2E3FC;\n",
              "    }\n",
              "\n",
              "    [theme=dark] .colab-df-convert:hover {\n",
              "      background-color: #434B5C;\n",
              "      box-shadow: 0px 1px 3px 1px rgba(0, 0, 0, 0.15);\n",
              "      filter: drop-shadow(0px 1px 2px rgba(0, 0, 0, 0.3));\n",
              "      fill: #FFFFFF;\n",
              "    }\n",
              "  </style>\n",
              "\n",
              "    <script>\n",
              "      const buttonEl =\n",
              "        document.querySelector('#df-f8848732-f077-46df-ad0a-f3ce354df257 button.colab-df-convert');\n",
              "      buttonEl.style.display =\n",
              "        google.colab.kernel.accessAllowed ? 'block' : 'none';\n",
              "\n",
              "      async function convertToInteractive(key) {\n",
              "        const element = document.querySelector('#df-f8848732-f077-46df-ad0a-f3ce354df257');\n",
              "        const dataTable =\n",
              "          await google.colab.kernel.invokeFunction('convertToInteractive',\n",
              "                                                    [key], {});\n",
              "        if (!dataTable) return;\n",
              "\n",
              "        const docLinkHtml = 'Like what you see? Visit the ' +\n",
              "          '<a target=\"_blank\" href=https://colab.research.google.com/notebooks/data_table.ipynb>data table notebook</a>'\n",
              "          + ' to learn more about interactive tables.';\n",
              "        element.innerHTML = '';\n",
              "        dataTable['output_type'] = 'display_data';\n",
              "        await google.colab.output.renderOutput(dataTable, element);\n",
              "        const docLink = document.createElement('div');\n",
              "        docLink.innerHTML = docLinkHtml;\n",
              "        element.appendChild(docLink);\n",
              "      }\n",
              "    </script>\n",
              "  </div>\n",
              "\n",
              "\n",
              "<div id=\"df-c14aaf65-5a9c-48c8-901c-9d4e3dfde7a4\">\n",
              "  <button class=\"colab-df-quickchart\" onclick=\"quickchart('df-c14aaf65-5a9c-48c8-901c-9d4e3dfde7a4')\"\n",
              "            title=\"Suggest charts\"\n",
              "            style=\"display:none;\">\n",
              "\n",
              "<svg xmlns=\"http://www.w3.org/2000/svg\" height=\"24px\"viewBox=\"0 0 24 24\"\n",
              "     width=\"24px\">\n",
              "    <g>\n",
              "        <path d=\"M19 3H5c-1.1 0-2 .9-2 2v14c0 1.1.9 2 2 2h14c1.1 0 2-.9 2-2V5c0-1.1-.9-2-2-2zM9 17H7v-7h2v7zm4 0h-2V7h2v10zm4 0h-2v-4h2v4z\"/>\n",
              "    </g>\n",
              "</svg>\n",
              "  </button>\n",
              "\n",
              "<style>\n",
              "  .colab-df-quickchart {\n",
              "      --bg-color: #E8F0FE;\n",
              "      --fill-color: #1967D2;\n",
              "      --hover-bg-color: #E2EBFA;\n",
              "      --hover-fill-color: #174EA6;\n",
              "      --disabled-fill-color: #AAA;\n",
              "      --disabled-bg-color: #DDD;\n",
              "  }\n",
              "\n",
              "  [theme=dark] .colab-df-quickchart {\n",
              "      --bg-color: #3B4455;\n",
              "      --fill-color: #D2E3FC;\n",
              "      --hover-bg-color: #434B5C;\n",
              "      --hover-fill-color: #FFFFFF;\n",
              "      --disabled-bg-color: #3B4455;\n",
              "      --disabled-fill-color: #666;\n",
              "  }\n",
              "\n",
              "  .colab-df-quickchart {\n",
              "    background-color: var(--bg-color);\n",
              "    border: none;\n",
              "    border-radius: 50%;\n",
              "    cursor: pointer;\n",
              "    display: none;\n",
              "    fill: var(--fill-color);\n",
              "    height: 32px;\n",
              "    padding: 0;\n",
              "    width: 32px;\n",
              "  }\n",
              "\n",
              "  .colab-df-quickchart:hover {\n",
              "    background-color: var(--hover-bg-color);\n",
              "    box-shadow: 0 1px 2px rgba(60, 64, 67, 0.3), 0 1px 3px 1px rgba(60, 64, 67, 0.15);\n",
              "    fill: var(--button-hover-fill-color);\n",
              "  }\n",
              "\n",
              "  .colab-df-quickchart-complete:disabled,\n",
              "  .colab-df-quickchart-complete:disabled:hover {\n",
              "    background-color: var(--disabled-bg-color);\n",
              "    fill: var(--disabled-fill-color);\n",
              "    box-shadow: none;\n",
              "  }\n",
              "\n",
              "  .colab-df-spinner {\n",
              "    border: 2px solid var(--fill-color);\n",
              "    border-color: transparent;\n",
              "    border-bottom-color: var(--fill-color);\n",
              "    animation:\n",
              "      spin 1s steps(1) infinite;\n",
              "  }\n",
              "\n",
              "  @keyframes spin {\n",
              "    0% {\n",
              "      border-color: transparent;\n",
              "      border-bottom-color: var(--fill-color);\n",
              "      border-left-color: var(--fill-color);\n",
              "    }\n",
              "    20% {\n",
              "      border-color: transparent;\n",
              "      border-left-color: var(--fill-color);\n",
              "      border-top-color: var(--fill-color);\n",
              "    }\n",
              "    30% {\n",
              "      border-color: transparent;\n",
              "      border-left-color: var(--fill-color);\n",
              "      border-top-color: var(--fill-color);\n",
              "      border-right-color: var(--fill-color);\n",
              "    }\n",
              "    40% {\n",
              "      border-color: transparent;\n",
              "      border-right-color: var(--fill-color);\n",
              "      border-top-color: var(--fill-color);\n",
              "    }\n",
              "    60% {\n",
              "      border-color: transparent;\n",
              "      border-right-color: var(--fill-color);\n",
              "    }\n",
              "    80% {\n",
              "      border-color: transparent;\n",
              "      border-right-color: var(--fill-color);\n",
              "      border-bottom-color: var(--fill-color);\n",
              "    }\n",
              "    90% {\n",
              "      border-color: transparent;\n",
              "      border-bottom-color: var(--fill-color);\n",
              "    }\n",
              "  }\n",
              "</style>\n",
              "\n",
              "  <script>\n",
              "    async function quickchart(key) {\n",
              "      const quickchartButtonEl =\n",
              "        document.querySelector('#' + key + ' button');\n",
              "      quickchartButtonEl.disabled = true;  // To prevent multiple clicks.\n",
              "      quickchartButtonEl.classList.add('colab-df-spinner');\n",
              "      try {\n",
              "        const charts = await google.colab.kernel.invokeFunction(\n",
              "            'suggestCharts', [key], {});\n",
              "      } catch (error) {\n",
              "        console.error('Error during call to suggestCharts:', error);\n",
              "      }\n",
              "      quickchartButtonEl.classList.remove('colab-df-spinner');\n",
              "      quickchartButtonEl.classList.add('colab-df-quickchart-complete');\n",
              "    }\n",
              "    (() => {\n",
              "      let quickchartButtonEl =\n",
              "        document.querySelector('#df-c14aaf65-5a9c-48c8-901c-9d4e3dfde7a4 button');\n",
              "      quickchartButtonEl.style.display =\n",
              "        google.colab.kernel.accessAllowed ? 'block' : 'none';\n",
              "    })();\n",
              "  </script>\n",
              "</div>\n",
              "\n",
              "    </div>\n",
              "  </div>\n"
            ],
            "application/vnd.google.colaboratory.intrinsic+json": {
              "type": "dataframe",
              "summary": "{\n  \"name\": \"dml_pliv_obj\",\n  \"rows\": 3,\n  \"fields\": [\n    {\n      \"column\": \"coef\",\n      \"properties\": {\n        \"dtype\": \"number\",\n        \"std\": 6.01385940208973,\n        \"min\": -9.660493004034677,\n        \"max\": 0.9003934616561199,\n        \"num_unique_values\": 3,\n        \"samples\": [\n          0.6049549949469408,\n          -9.660493004034677,\n          0.9003934616561199\n        ],\n        \"semantic_type\": \"\",\n        \"description\": \"\"\n      }\n    },\n    {\n      \"column\": \"std err\",\n      \"properties\": {\n        \"dtype\": \"number\",\n        \"std\": 2.2818979019895353,\n        \"min\": 0.12716943268257214,\n        \"max\": 4.1827018848345014,\n        \"num_unique_values\": 3,\n        \"samples\": [\n          0.12716943268257214,\n          4.1827018848345014,\n          0.3422949049218465\n        ],\n        \"semantic_type\": \"\",\n        \"description\": \"\"\n      }\n    },\n    {\n      \"column\": \"t\",\n      \"properties\": {\n        \"dtype\": \"number\",\n        \"std\": 3.6254969742721603,\n        \"min\": -2.309629820633731,\n        \"max\": 4.757078664154854,\n        \"num_unique_values\": 3,\n        \"samples\": [\n          4.757078664154854,\n          -2.309629820633731,\n          2.630461186273572\n        ],\n        \"semantic_type\": \"\",\n        \"description\": \"\"\n      }\n    },\n    {\n      \"column\": \"P>|t|\",\n      \"properties\": {\n        \"dtype\": \"number\",\n        \"std\": 0.010512470166614326,\n        \"min\": 1.9641464502430317e-06,\n        \"max\": 0.020908657178381175,\n        \"num_unique_values\": 3,\n        \"samples\": [\n          1.9641464502430317e-06,\n          0.020908657178381175,\n          0.008526910583768461\n        ],\n        \"semantic_type\": \"\",\n        \"description\": \"\"\n      }\n    },\n    {\n      \"column\": \"2.5 %\",\n      \"properties\": {\n        \"dtype\": \"number\",\n        \"std\": 10.479701082512204,\n        \"min\": -17.858438056378102,\n        \"max\": 0.35570748695470855,\n        \"num_unique_values\": 3,\n        \"samples\": [\n          0.35570748695470855,\n          -17.858438056378102,\n          0.22950777591773863\n        ],\n        \"semantic_type\": \"\",\n        \"description\": \"\"\n      }\n    },\n    {\n      \"column\": \"97.5 %\",\n      \"properties\": {\n        \"dtype\": \"number\",\n        \"std\": 1.5856459488276209,\n        \"min\": -1.4625479516912527,\n        \"max\": 1.5712791473945011,\n        \"num_unique_values\": 3,\n        \"samples\": [\n          0.8542025029391731,\n          -1.4625479516912527,\n          1.5712791473945011\n        ],\n        \"semantic_type\": \"\",\n        \"description\": \"\"\n      }\n    }\n  ]\n}"
            }
          },
          "metadata": {},
          "execution_count": 44
        }
      ]
    },
    {
      "cell_type": "markdown",
      "source": [
        "## **五、結論與討論**\n",
        "\n",
        "本篇報告在林祖嘉等學者（2020）的研究基礎上，將一系列的工具變量（IV）納入Double ML進行分析，以進一步分析文章中最重要的問題，即「創業與否及家庭所得階層對於階層流動的影響為何」，並試圖從中估計其因果效應（Causal Effect）。\n",
        "\n",
        "從雙重機器學習的統計結果中我們可以看到，$\\beta_{\\text{strata_young}}$、$\\beta_{\\text{is_entrepreneur}}$及兩者的交叉項$\\beta_{\\text{strata_young*is_entrepreneur}}$的P-value都非常小，在95%信心水準（$\\alpha = 95\\%$）下，有充分的證據說明他們的Causal Effect顯著不為0。\n",
        "\n",
        "其中，$\\beta_{\\text{strata_young}}=0.605$，與林祖嘉等學者（2020）的研究結論類似，說明來自所得階層越高的人，成年後更有可能保持在較高的所得階層，這個部分解釋了階級複製的效果。\n",
        "\n",
        "而是否為創業者及其交叉項目，在林祖嘉等學者（2020）的研究中的結論是：一方面，創業能夠提高所得階層（在文章中，創業的係數為正）；另一方面，創業對於所得階層的複製具有抑制作用（在他們的文章中，交互項的係數為負）。\n",
        "\n",
        "然而，以DoubleML的分析結果來看，我們卻能夠注意到與上述完全相反的效果。從其Causal Effect來看，整體而言，創業會使得收入階層往下流動；而交叉項的係數則說明，年輕時期收入階層越高的人則會減緩創業帶來的向下流動幅度，並不支持林祖嘉等學者（2020）的觀點，認為創業對於階層複製具有抑制的作用，相反，研究結果顯示，年輕時所得階層越高的人，能夠為他們創業帶來更大的收入流動。\n",
        "\n"
      ],
      "metadata": {
        "id": "RijdGHocdY_l"
      }
    },
    {
      "cell_type": "markdown",
      "source": [
        "## 六、Reference\n",
        "\n",
        "林祖嘉、李明軒、林姵宜（2020）。家庭所得階層對創業決策影響之研究－臺灣社會變遷調查資料的實證分析。人文及社會科學集刊，32(1)，39-79。https://www.airitilibrary.com/Article/Detail?DocID=1018189X-202003-202004270003-202004270003-39-79\n",
        "\n",
        "傅仰止(2023)。臺灣社會變遷基本調查計畫2017第七期第三次：社會階層組(C00339_1)【原始數據】取自中央研究院人文社會科學研究中心調查研究專題中心學術調查研究資料庫。https://doi.org/10.6141/TW-SRDA-C00339_1-3\n",
        "\n",
        "Feyzollahi, Maryam and Rafizadeh, Nima, Double/Debiased Machine Learning for Economists: Practical Guidelines, Best Practices, and Common Pitfalls (January 23, 2024). Available at SSRN: https://ssrn.com/abstract=4703243 or http://dx.doi.org/10.2139/ssrn.4703243"
      ],
      "metadata": {
        "id": "AX-XWGQC9NwA"
      }
    },
    {
      "cell_type": "code",
      "source": [
        "%%shell\n",
        "jupyter nbconvert --to html /content/causal_ml_final.ipynb"
      ],
      "metadata": {
        "colab": {
          "base_uri": "https://localhost:8080/"
        },
        "id": "xnxdZqcCgjbf",
        "outputId": "a6cabec8-9931-4548-a9ce-15a29c87d960"
      },
      "execution_count": null,
      "outputs": [
        {
          "output_type": "stream",
          "name": "stdout",
          "text": [
            "[NbConvertApp] Converting notebook /content/causal_ml_final.ipynb to html\n",
            "[NbConvertApp] Writing 737150 bytes to /content/causal_ml_final.html\n"
          ]
        },
        {
          "output_type": "execute_result",
          "data": {
            "text/plain": []
          },
          "metadata": {},
          "execution_count": 48
        }
      ]
    }
  ]
}